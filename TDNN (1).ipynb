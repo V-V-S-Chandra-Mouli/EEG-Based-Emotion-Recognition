{
 "cells": [
  {
   "cell_type": "code",
   "execution_count": null,
   "metadata": {
    "colab": {
     "base_uri": "https://localhost:8080/"
    },
    "id": "jHwV38CMwPu-",
    "outputId": "68ff4337-1319-4c49-c72b-767ba3f50463"
   },
   "outputs": [
    {
     "name": "stdout",
     "output_type": "stream",
     "text": [
      "Looking in indexes: https://pypi.org/simple, https://us-python.pkg.dev/colab-wheels/public/simple/\n",
      "Collecting git+https://github.com/forrestbao/pyeeg.git\n",
      "  Cloning https://github.com/forrestbao/pyeeg.git to /tmp/pip-req-build-ia0_ds40\n",
      "  Running command git clone --filter=blob:none --quiet https://github.com/forrestbao/pyeeg.git /tmp/pip-req-build-ia0_ds40\n",
      "  Resolved https://github.com/forrestbao/pyeeg.git to commit a6c18bb093e4748f9d9c208535a6ae024a0802b8\n",
      "  Preparing metadata (setup.py) ... \u001b[?25l\u001b[?25hdone\n",
      "Requirement already satisfied: numpy>=1.9.2 in /usr/local/lib/python3.10/dist-packages (from pyeeg==0.4.4) (1.22.4)\n"
     ]
    }
   ],
   "source": [
    "!pip install git+https://github.com/forrestbao/pyeeg.git\n",
    "import numpy as np\n",
    "import pyeeg as pe\n",
    "import pickle as pickle\n",
    "import pandas as pd\n",
    "import math\n",
    "\n",
    "from sklearn import svm\n",
    "from sklearn.preprocessing import normalize\n",
    "\n",
    "import os\n",
    "import time"
   ]
  },
  {
   "cell_type": "code",
   "execution_count": null,
   "metadata": {
    "id": "rgETY0PwT30J"
   },
   "outputs": [],
   "source": []
  },
  {
   "cell_type": "code",
   "execution_count": null,
   "metadata": {
    "id": "YwZvASMyy_CI"
   },
   "outputs": [],
   "source": [
    "import tensorflow.compat.v2 as tf\n",
    "import pandas as pd\n",
    "import keras.backend as K\n",
    "import numpy as np\n",
    "import pandas as pd\n",
    "from keras.models import Sequential\n",
    "from keras.layers import Dense\n",
    "from keras.models import Sequential\n",
    "from keras.layers.convolutional import Conv1D\n",
    "from keras.layers.convolutional import MaxPooling1D\n",
    "from tensorflow.keras.utils import to_categorical\n",
    "from keras.layers import Flatten\n",
    "from keras.layers import Dense\n",
    "import numpy as np\n",
    "import keras\n",
    "from keras.datasets import mnist\n",
    "from keras.models import Sequential\n",
    "from keras.layers import Dense, Dropout, Flatten, Conv2D, MaxPooling2D\n",
    "from keras import backend as K\n",
    "from keras.models import Model\n",
    "import timeit\n",
    "\n",
    "# from keras.models import Sequential\n",
    "from tensorflow.keras.models import Sequential\n",
    "from tensorflow.keras.layers import Conv1D, BatchNormalization, MaxPooling1D, Dropout, Flatten, Dense\n",
    "from keras.layers.core import Flatten, Dense, Dropout\n",
    "from keras.layers.convolutional import Convolution1D, MaxPooling1D, ZeroPadding1D\n",
    "from tensorflow.keras.optimizers import SGD\n",
    "import warnings\n",
    "warnings.filterwarnings('ignore')"
   ]
  },
  {
   "cell_type": "code",
   "execution_count": null,
   "metadata": {
    "colab": {
     "base_uri": "https://localhost:8080/"
    },
    "id": "QuLfUgtVzKvT",
    "outputId": "ccbb30f5-379a-4dca-b5c0-8b60c40e9a1f"
   },
   "outputs": [
    {
     "name": "stdout",
     "output_type": "stream",
     "text": [
      "Drive already mounted at /content/drive/; to attempt to forcibly remount, call drive.mount(\"/content/drive/\", force_remount=True).\n"
     ]
    }
   ],
   "source": [
    "from google.colab import drive\n",
    "drive.mount('/content/drive/')"
   ]
  },
  {
   "cell_type": "code",
   "execution_count": null,
   "metadata": {
    "id": "sufsUerTzz9B"
   },
   "outputs": [],
   "source": [
    "os.getcwd()\n",
    "os.chdir('/content/drive/My Drive')"
   ]
  },
  {
   "cell_type": "code",
   "execution_count": null,
   "metadata": {
    "id": "qCyK2LLu0FZE"
   },
   "outputs": [],
   "source": [
    "channel = [1,2,3,4,6,11,13,17,19,20,21,25,29,31] #14 Channels chosen to fit Emotiv Epoch+\n",
    "band = [4,8,12,16,25,45] #5 bands\n",
    "window_size = 256 #Averaging band power of 2 sec\n",
    "step_size = 16 #Each 0.125 sec update once\n",
    "sample_rate = 128 #Sampling rate of 128 Hz\n",
    "subjectList =['s03']\n",
    "#List of subjects"
   ]
  },
  {
   "cell_type": "code",
   "execution_count": null,
   "metadata": {
    "id": "RPcZcEv_0of3"
   },
   "outputs": [],
   "source": [
    "\n",
    "def FFT_Processing (sub, channel, band, window_size, step_size, sample_rate):\n",
    "    '''\n",
    "    arguments:  string subject\n",
    "                list channel indice\n",
    "                list band\n",
    "                int window size for FFT\n",
    "                int step size for FFT\n",
    "                int sample rate for FFT\n",
    "    return:     void\n",
    "    '''\n",
    "    meta = []\n",
    "    with open(\"/content/drive/MyDrive/eeg dataset/\" + sub + '.dat', 'rb') as file:\n",
    "\n",
    "        subject = pickle.load(file, encoding='latin1') #resolve the python 2 data problem by encoding : latin1\n",
    "\n",
    "        for i in range (0,40):\n",
    "            # loop over 0-39 trails\n",
    "            data = subject[\"data\"][i]\n",
    "            labels = subject[\"labels\"][i]\n",
    "            start = 0;\n",
    "\n",
    "            while start + window_size < data.shape[1]:\n",
    "                meta_array = []\n",
    "                meta_data = [] #meta vector for analysis\n",
    "                for j in channel:\n",
    "                    X = data[j][start : start + window_size] #Slice raw data over 2 sec, at interval of 0.125 sec\n",
    "                    Y = pe.bin_power(X, band, sample_rate) #FFT over 2 sec of channel j, in seq of theta, alpha, low beta, high beta, gamma\n",
    "                    meta_data = meta_data + list(Y[0])\n",
    "\n",
    "                meta_array.append(np.array(meta_data))\n",
    "                meta_array.append(labels)\n",
    "\n",
    "                meta.append(np.array(meta_array))\n",
    "                start = start + step_size\n",
    "\n",
    "        meta = np.array(meta)\n",
    "        np.save('/content/drive/MyDrive/eeg dataset' + sub, meta, allow_pickle=True, fix_imports=True)"
   ]
  },
  {
   "cell_type": "code",
   "execution_count": null,
   "metadata": {
    "id": "8kRYl2GU1H_T"
   },
   "outputs": [],
   "source": [
    "for subjects in subjectList:\n",
    "    FFT_Processing (subjects, channel, band, window_size, step_size, sample_rate)"
   ]
  },
  {
   "cell_type": "code",
   "execution_count": null,
   "metadata": {
    "colab": {
     "base_uri": "https://localhost:8080/"
    },
    "id": "qAGWZgrx2TnI",
    "outputId": "716aa256-1562-4d0d-8d89-f6670ede4dc5"
   },
   "outputs": [
    {
     "name": "stdout",
     "output_type": "stream",
     "text": [
      "training dataset: (15616, 70) (15616, 4)\n",
      "testing dataset: (3904, 70) (3904, 4)\n"
     ]
    }
   ],
   "source": [
    "data_training = []\n",
    "label_training = []\n",
    "data_testing = []\n",
    "label_testing = []\n",
    "\n",
    "for subjects in subjectList:\n",
    "\n",
    "    with open('/content/drive/MyDrive/eeg dataset' + subjects + '.npy', 'rb') as file:\n",
    "      sub = np.load(file,allow_pickle=True)\n",
    "      for i in range (0,sub.shape[0]):\n",
    "        if i % 5 == 0:\n",
    "          data_testing.append(sub[i][0])\n",
    "          label_testing.append(sub[i][1])\n",
    "        else:\n",
    "          data_training.append(sub[i][0])\n",
    "          label_training.append(sub[i][1])\n",
    "\n",
    "np.save('/content/drive/My Drive/data_training', np.array(data_training), allow_pickle=True, fix_imports=True)\n",
    "np.save('/content/drive/My Drive/label_training', np.array(label_training), allow_pickle=True, fix_imports=True)\n",
    "print(\"training dataset:\", np.array(data_training).shape, np.array(label_training).shape)\n",
    "\n",
    "np.save('/content/drive/My Drive/data_testing', np.array(data_testing), allow_pickle=True, fix_imports=True)\n",
    "np.save('/content/drive/My Drive/label_testing', np.array(label_testing), allow_pickle=True, fix_imports=True)\n",
    "print(\"testing dataset:\", np.array(data_testing).shape, np.array(label_testing).shape)"
   ]
  },
  {
   "cell_type": "code",
   "execution_count": null,
   "metadata": {
    "id": "xBxiN6WZ3OVX"
   },
   "outputs": [],
   "source": [
    "with open('/content/drive/My Drive/data_training.npy', 'rb') as fileTrain:\n",
    "    X  = np.load(fileTrain)\n",
    "\n",
    "with open('/content/drive/My Drive/label_training.npy', 'rb') as fileTrainL:\n",
    "    Y  = np.load(fileTrainL)\n",
    "\n",
    "X = normalize(X)\n",
    "Z = np.ravel(Y[:, [3]])\n",
    "\n",
    "Arousal_Train = np.ravel(Y[:, [0]])\n",
    "Valence_Train = np.ravel(Y[:, [1]])\n",
    "Domain_Train = np.ravel(Y[:, [2]])\n",
    "Like_Train = np.ravel(Y[:, [3]])"
   ]
  },
  {
   "cell_type": "code",
   "execution_count": null,
   "metadata": {
    "colab": {
     "base_uri": "https://localhost:8080/"
    },
    "id": "Sl-_-3qx3bp0",
    "outputId": "b9e7f0ca-8554-4c5c-8f35-c6e232352c63"
   },
   "outputs": [
    {
     "data": {
      "text/plain": [
       "(15616, 70)"
      ]
     },
     "execution_count": 55,
     "metadata": {},
     "output_type": "execute_result"
    }
   ],
   "source": [
    "X.shape"
   ]
  },
  {
   "cell_type": "code",
   "execution_count": null,
   "metadata": {
    "colab": {
     "base_uri": "https://localhost:8080/"
    },
    "id": "3L8AB463qIBW",
    "outputId": "5ed30e64-51fd-4a13-e381-2b5eed03b1c0"
   },
   "outputs": [
    {
     "data": {
      "text/plain": [
       "2"
      ]
     },
     "execution_count": 56,
     "metadata": {},
     "output_type": "execute_result"
    }
   ],
   "source": [
    "X.ndim"
   ]
  },
  {
   "cell_type": "code",
   "execution_count": null,
   "metadata": {
    "colab": {
     "base_uri": "https://localhost:8080/"
    },
    "id": "A0mO5oPiBenv",
    "outputId": "d9986930-bab9-4cd6-c5e8-c92d3c3a78b2"
   },
   "outputs": [
    {
     "data": {
      "text/plain": [
       "(15616, 4)"
      ]
     },
     "execution_count": 57,
     "metadata": {},
     "output_type": "execute_result"
    }
   ],
   "source": [
    "Y.shape"
   ]
  },
  {
   "cell_type": "code",
   "execution_count": null,
   "metadata": {
    "colab": {
     "base_uri": "https://localhost:8080/"
    },
    "id": "hsXSfG-p3flf",
    "outputId": "7bc076d6-192c-40a4-e64a-49651ef052da"
   },
   "outputs": [
    {
     "data": {
      "text/plain": [
       "array([[0., 0., 0., ..., 0., 0., 0.],\n",
       "       [0., 0., 0., ..., 0., 0., 0.],\n",
       "       [0., 0., 0., ..., 0., 0., 0.],\n",
       "       ...,\n",
       "       [0., 0., 0., ..., 1., 0., 0.],\n",
       "       [0., 0., 0., ..., 1., 0., 0.],\n",
       "       [0., 0., 0., ..., 1., 0., 0.]], dtype=float32)"
      ]
     },
     "execution_count": 58,
     "metadata": {},
     "output_type": "execute_result"
    }
   ],
   "source": [
    "from tensorflow.keras.utils import to_categorical\n",
    "y_train = to_categorical(Z)\n",
    "y_train"
   ]
  },
  {
   "cell_type": "code",
   "execution_count": null,
   "metadata": {
    "colab": {
     "base_uri": "https://localhost:8080/"
    },
    "id": "eD3rsK693n11",
    "outputId": "e626b31e-eb07-47df-cccd-3c0898201927"
   },
   "outputs": [
    {
     "data": {
      "text/plain": [
       "2"
      ]
     },
     "execution_count": 59,
     "metadata": {},
     "output_type": "execute_result"
    }
   ],
   "source": [
    "y_train.ndim"
   ]
  },
  {
   "cell_type": "code",
   "execution_count": null,
   "metadata": {
    "id": "TI3m_a1z3ut7"
   },
   "outputs": [],
   "source": [
    "x_train = np.array(X[:])"
   ]
  },
  {
   "cell_type": "code",
   "execution_count": null,
   "metadata": {
    "id": "-wN9dN5d30X-"
   },
   "outputs": [],
   "source": [
    "with open('/content/drive/My Drive/data_testing.npy', 'rb') as fileTrain:\n",
    "    M  = np.load(fileTrain)\n",
    "\n",
    "with open('/content/drive/My Drive/label_testing.npy', 'rb') as fileTrainL:\n",
    "    N  = np.load(fileTrainL)\n",
    "\n",
    "M = normalize(M)\n",
    "L = np.ravel(N[:, [3]])\n",
    "\n",
    "Arousal_Test = np.ravel(N[:, [0]])\n",
    "Valence_Test = np.ravel(N[:, [1]])\n",
    "Domain_Test = np.ravel(N[:, [2]])\n",
    "Like_Test = np.ravel(N[:, [3]])"
   ]
  },
  {
   "cell_type": "code",
   "execution_count": null,
   "metadata": {
    "id": "gyJjEkzy360C"
   },
   "outputs": [],
   "source": [
    "x_test = np.array(M[:])"
   ]
  },
  {
   "cell_type": "code",
   "execution_count": null,
   "metadata": {
    "colab": {
     "base_uri": "https://localhost:8080/"
    },
    "id": "nMJ21SNO4CHX",
    "outputId": "955052c3-3a10-4010-cb50-d8be0a6bbf97"
   },
   "outputs": [
    {
     "data": {
      "text/plain": [
       "array([[0., 0., 0., ..., 0., 0., 0.],\n",
       "       [0., 0., 0., ..., 0., 0., 0.],\n",
       "       [0., 0., 0., ..., 0., 0., 0.],\n",
       "       ...,\n",
       "       [0., 0., 0., ..., 1., 0., 0.],\n",
       "       [0., 0., 0., ..., 1., 0., 0.],\n",
       "       [0., 0., 0., ..., 1., 0., 0.]], dtype=float32)"
      ]
     },
     "execution_count": 63,
     "metadata": {},
     "output_type": "execute_result"
    }
   ],
   "source": [
    "from tensorflow.keras.utils import to_categorical\n",
    "y_test = to_categorical(L)\n",
    "y_test"
   ]
  },
  {
   "cell_type": "code",
   "execution_count": null,
   "metadata": {
    "colab": {
     "base_uri": "https://localhost:8080/"
    },
    "id": "zDE5TJPd4F74",
    "outputId": "204285f5-da23-4a00-ea06-593ce6448e01"
   },
   "outputs": [
    {
     "data": {
      "text/plain": [
       "array([0., 0., 0., 0., 1., 0., 0., 0.], dtype=float32)"
      ]
     },
     "execution_count": 64,
     "metadata": {},
     "output_type": "execute_result"
    }
   ],
   "source": [
    "y_test[1]"
   ]
  },
  {
   "cell_type": "code",
   "execution_count": null,
   "metadata": {
    "id": "kEMpOF034LN4"
   },
   "outputs": [],
   "source": [
    "from sklearn.preprocessing import StandardScaler\n",
    "scaler = StandardScaler()\n",
    "x_train = scaler.fit_transform(x_train)\n",
    "x_test = scaler.fit_transform(x_test)"
   ]
  },
  {
   "cell_type": "code",
   "execution_count": null,
   "metadata": {
    "id": "fXlzTWXc4Run"
   },
   "outputs": [],
   "source": [
    "\n",
    "x_train = x_train.reshape(x_train.shape[0],x_train.shape[1], 1)\n",
    "x_test = x_test.reshape(x_test.shape[0],x_test.shape[1], 1)"
   ]
  },
  {
   "cell_type": "code",
   "execution_count": null,
   "metadata": {
    "colab": {
     "base_uri": "https://localhost:8080/"
    },
    "id": "3eIhRqIc4VMW",
    "outputId": "a055585d-c01e-48ee-9a7b-44330f29a8a7"
   },
   "outputs": [
    {
     "data": {
      "text/plain": [
       "(15616, 70, 1)"
      ]
     },
     "execution_count": 67,
     "metadata": {},
     "output_type": "execute_result"
    }
   ],
   "source": [
    "x_train.shape"
   ]
  },
  {
   "cell_type": "code",
   "execution_count": null,
   "metadata": {
    "id": "6zm-qxkE4W18"
   },
   "outputs": [],
   "source": [
    "batch_size = 256\n",
    "num_classes = 8\n",
    "epochs = 70\n",
    "input_shape=(x_train.shape[1], 1)"
   ]
  },
  {
   "cell_type": "code",
   "execution_count": null,
   "metadata": {
    "colab": {
     "base_uri": "https://localhost:8080/"
    },
    "id": "VjXl821QrJ1Z",
    "outputId": "31afe3da-1340-436c-b468-a85da0760394"
   },
   "outputs": [
    {
     "data": {
      "text/plain": [
       "70"
      ]
     },
     "execution_count": 69,
     "metadata": {},
     "output_type": "execute_result"
    }
   ],
   "source": [
    "x_train.shape[1]"
   ]
  },
  {
   "cell_type": "code",
   "execution_count": null,
   "metadata": {
    "colab": {
     "base_uri": "https://localhost:8080/"
    },
    "id": "JfgTjHSV4b3v",
    "outputId": "02148b8d-2a5e-44e8-e584-0ccdcb96072d"
   },
   "outputs": [
    {
     "name": "stdout",
     "output_type": "stream",
     "text": [
      "(70, 1)\n"
     ]
    }
   ],
   "source": [
    "print(input_shape)"
   ]
  },
  {
   "cell_type": "code",
   "execution_count": null,
   "metadata": {
    "colab": {
     "base_uri": "https://localhost:8080/"
    },
    "id": "kT17hvYRqxGf",
    "outputId": "8852a031-9ea7-4d36-c311-0c475d11dddf"
   },
   "outputs": [
    {
     "data": {
      "text/plain": [
       "(15616, 8)"
      ]
     },
     "execution_count": 71,
     "metadata": {},
     "output_type": "execute_result"
    }
   ],
   "source": [
    "y_train.shape"
   ]
  },
  {
   "cell_type": "code",
   "execution_count": null,
   "metadata": {
    "colab": {
     "base_uri": "https://localhost:8080/"
    },
    "id": "WSO49h2dhWjM",
    "outputId": "a87bc203-b544-4079-acb0-93022de9be5a"
   },
   "outputs": [
    {
     "data": {
      "text/plain": [
       "8"
      ]
     },
     "execution_count": 72,
     "metadata": {},
     "output_type": "execute_result"
    }
   ],
   "source": [
    "y_train.shape[1]"
   ]
  },
  {
   "cell_type": "code",
   "execution_count": null,
   "metadata": {
    "id": "cfrjaHpoq6S_"
   },
   "outputs": [],
   "source": [
    "y=(y_train[1],1)"
   ]
  },
  {
   "cell_type": "code",
   "execution_count": null,
   "metadata": {
    "id": "d6H4SAPU4iYS"
   },
   "outputs": [],
   "source": [
    "from keras.layers import Convolution1D, ZeroPadding1D, MaxPooling1D, BatchNormalization, Activation, Dropout, Flatten, Dense\n",
    "from keras.regularizers import l2"
   ]
  },
  {
   "cell_type": "code",
   "execution_count": null,
   "metadata": {
    "colab": {
     "base_uri": "https://localhost:8080/"
    },
    "id": "XiFZblYEVR1J",
    "outputId": "62d65065-5465-406c-be83-eaf066d5789f"
   },
   "outputs": [
    {
     "name": "stdout",
     "output_type": "stream",
     "text": [
      "Looking in indexes: https://pypi.org/simple, https://us-python.pkg.dev/colab-wheels/public/simple/\n",
      "Collecting git+https://github.com/forrestbao/pyeeg.git\n",
      "  Cloning https://github.com/forrestbao/pyeeg.git to /tmp/pip-req-build-dtsifhkv\n",
      "  Running command git clone --filter=blob:none --quiet https://github.com/forrestbao/pyeeg.git /tmp/pip-req-build-dtsifhkv\n",
      "  Resolved https://github.com/forrestbao/pyeeg.git to commit a6c18bb093e4748f9d9c208535a6ae024a0802b8\n",
      "  Preparing metadata (setup.py) ... \u001b[?25l\u001b[?25hdone\n",
      "Requirement already satisfied: numpy>=1.9.2 in /usr/local/lib/python3.10/dist-packages (from pyeeg==0.4.4) (1.22.4)\n"
     ]
    }
   ],
   "source": [
    "\n",
    "!pip install git+https://github.com/forrestbao/pyeeg.git\n",
    "\n"
   ]
  },
  {
   "cell_type": "code",
   "execution_count": null,
   "metadata": {
    "id": "IwnSG76VXLPz"
   },
   "outputs": [],
   "source": [
    "from keras.layers import Convolution1D, ZeroPadding1D, MaxPooling1D, BatchNormalization, Activation, Dropout, Flatten, Dense\n",
    "from keras.regularizers import l2\n"
   ]
  },
  {
   "cell_type": "code",
   "execution_count": null,
   "metadata": {
    "id": "3Qbegr8HY8FR"
   },
   "outputs": [],
   "source": [
    "from keras.layers.convolutional import Conv1D"
   ]
  },
  {
   "cell_type": "code",
   "execution_count": null,
   "metadata": {
    "colab": {
     "base_uri": "https://localhost:8080/"
    },
    "id": "mN0DDaBVbuqH",
    "outputId": "2c08b76c-f39d-4774-99c3-30da72f7946a"
   },
   "outputs": [
    {
     "name": "stdout",
     "output_type": "stream",
     "text": [
      "Looking in indexes: https://pypi.org/simple, https://us-python.pkg.dev/colab-wheels/public/simple/\n",
      "Requirement already satisfied: pydot in /usr/local/lib/python3.10/dist-packages (1.4.2)\n",
      "Requirement already satisfied: pyparsing>=2.1.4 in /usr/local/lib/python3.10/dist-packages (from pydot) (3.0.9)\n"
     ]
    }
   ],
   "source": [
    "!apt-get -qq install -y graphviz && pip install pydot\n",
    "import pydot"
   ]
  },
  {
   "cell_type": "code",
   "execution_count": null,
   "metadata": {
    "colab": {
     "base_uri": "https://localhost:8080/"
    },
    "id": "o8gfSf5Nb0jn",
    "outputId": "aa3f46eb-6753-4608-dd8c-ab61a9f9197d"
   },
   "outputs": [
    {
     "name": "stdout",
     "output_type": "stream",
     "text": [
      "Looking in indexes: https://pypi.org/simple, https://us-python.pkg.dev/colab-wheels/public/simple/\n",
      "Requirement already satisfied: libarchive in /usr/local/lib/python3.10/dist-packages (0.4.7)\n",
      "Requirement already satisfied: nose in /usr/local/lib/python3.10/dist-packages (from libarchive) (1.3.7)\n"
     ]
    }
   ],
   "source": [
    "!apt-get -qq install -y libarchive-dev && pip install -U libarchive\n",
    "import libarchive"
   ]
  },
  {
   "cell_type": "code",
   "execution_count": null,
   "metadata": {
    "id": "UnNf9nshZPs7"
   },
   "outputs": [],
   "source": [
    "from keras.layers.attention.attention import Attention\n",
    "\n",
    "from keras.regularizers import l2\n",
    "from  keras.layers  import  Bidirectional\n",
    "from keras.models import Sequential\n",
    "\n",
    "\n",
    "from keras import backend as K\n",
    "from keras.engine.base_layer import Layer\n",
    "from keras import activations\n",
    "import numpy as np\n",
    "\n",
    "\n",
    "class TDNNLayer(Layer):\n",
    "\n",
    "\n",
    "    def __init__(self,\n",
    "                 input_context=[-2, 2],\n",
    "                 sub_sampling=False,\n",
    "                 initializer='uniform',\n",
    "                 activation=None,\n",
    "                 **kwargs):\n",
    "\n",
    "        self.input_context = input_context\n",
    "        self.sub_sampling = sub_sampling\n",
    "        self.initializer = initializer\n",
    "        self.activation = activations.get(activation)\n",
    "        self.mask = None\n",
    "        self.kernel = None\n",
    "        super(TDNNLayer, self).__init__(**kwargs)\n",
    "\n",
    "    def build(self, input_shape):\n",
    "        kernel_shape = (self.input_context[1]-self.input_context[0]+1, 1, 1)\n",
    "        self.kernel = self.add_weight(name='kernel',\n",
    "                                      shape=kernel_shape,\n",
    "                                      initializer=self.initializer,\n",
    "                                      trainable=True)\n",
    "        self.mask = np.zeros(kernel_shape)\n",
    "        self.mask[0][0][0] = 1\n",
    "        self.mask[self.input_context[1]-self.input_context[0]][0][0] = 1\n",
    "\n",
    "        if self.sub_sampling:\n",
    "            self.kernel = self.kernel * self.mask\n",
    "\n",
    "        super(TDNNLayer, self).build(input_shape)  # Be sure to call this at the end\n",
    "\n",
    "    def call(self,\n",
    "             inputs,\n",
    "             mask=None,\n",
    "             training=None,\n",
    "             initial_state=None,\n",
    "             constants=None):\n",
    "        if self.sub_sampling:\n",
    "            output = K.conv1d(inputs,\n",
    "                              self.kernel,\n",
    "                              strides=1,\n",
    "                              padding=\"same\",\n",
    "                              )\n",
    "        else:\n",
    "            masked_kernel = self.kernel * self.mask\n",
    "            output = K.conv1d(inputs,\n",
    "                              masked_kernel,\n",
    "                              strides=1,\n",
    "                              padding=\"same\",\n",
    "                              )\n",
    "        if self.activation is not None:\n",
    "            return self.activation(output)\n",
    "        return output\n",
    "\n",
    "    def compute_output_shape(self, input_shape):\n",
    "        return input_shape[0], input_shape[1]-self.input_context[1]+self.input_context[0]\n",
    "\n",
    "model = Sequential()\n",
    "model.add(TDNNLayer())\n",
    "model.add(TDNNLayer())\n",
    "model.add(TDNNLayer())\n",
    "\n",
    "model.add(Dense(units = 124))\n",
    "model.add(Activation('relu'))\n",
    "model.add(Flatten())\n",
    "model.add(Dense(256, activation='tanh'))\n",
    "model.add(Dropout(0.2))\n",
    "model.add(Dense(384, activation='tanh'))\n",
    "model.add(Dropout(0.2))\n",
    "model.add(Dense(4096, activation='relu'))\n",
    "model.add(Dropout(0.2))\n",
    "model.add(Dense(num_classes, activation='softmax'))\n",
    "\n",
    "\n",
    "\n",
    "\n",
    "\n",
    "\n",
    "\n"
   ]
  },
  {
   "cell_type": "code",
   "execution_count": null,
   "metadata": {
    "id": "b7JNjEA1FKxO"
   },
   "outputs": [],
   "source": [
    "model.compile(loss=keras.losses.categorical_crossentropy,\n",
    "              optimizer='adam',\n",
    "              metrics=['accuracy'])\n"
   ]
  },
  {
   "cell_type": "code",
   "execution_count": null,
   "metadata": {
    "id": "GTK3ygp7oofh"
   },
   "outputs": [],
   "source": []
  },
  {
   "cell_type": "code",
   "execution_count": null,
   "metadata": {
    "colab": {
     "base_uri": "https://localhost:8080/"
    },
    "id": "ckKGH9Jpooyn",
    "outputId": "73976197-14b8-4c6e-b16a-a41bb37c2f46"
   },
   "outputs": [
    {
     "name": "stdout",
     "output_type": "stream",
     "text": [
      "Epoch 1/70\n",
      "61/61 [==============================] - 25s 361ms/step - loss: 1.4935 - accuracy: 0.3631 - val_loss: 1.4307 - val_accuracy: 0.3747\n",
      "Epoch 2/70\n",
      "61/61 [==============================] - 28s 452ms/step - loss: 1.4221 - accuracy: 0.3761 - val_loss: 1.3805 - val_accuracy: 0.4421\n",
      "Epoch 3/70\n",
      "61/61 [==============================] - 16s 256ms/step - loss: 1.2700 - accuracy: 0.4679 - val_loss: 1.2408 - val_accuracy: 0.5133\n",
      "Epoch 4/70\n",
      "61/61 [==============================] - 15s 243ms/step - loss: 1.1169 - accuracy: 0.5451 - val_loss: 1.0465 - val_accuracy: 0.5753\n",
      "Epoch 5/70\n",
      "61/61 [==============================] - 15s 252ms/step - loss: 1.0172 - accuracy: 0.5847 - val_loss: 0.9893 - val_accuracy: 0.5861\n",
      "Epoch 6/70\n",
      "61/61 [==============================] - 15s 252ms/step - loss: 0.9653 - accuracy: 0.6064 - val_loss: 0.9419 - val_accuracy: 0.6091\n",
      "Epoch 7/70\n",
      "61/61 [==============================] - 15s 252ms/step - loss: 0.8963 - accuracy: 0.6372 - val_loss: 0.8355 - val_accuracy: 0.6606\n",
      "Epoch 8/70\n",
      "61/61 [==============================] - 15s 247ms/step - loss: 0.8249 - accuracy: 0.6652 - val_loss: 0.7853 - val_accuracy: 0.6931\n",
      "Epoch 9/70\n",
      "61/61 [==============================] - 16s 265ms/step - loss: 0.7694 - accuracy: 0.6879 - val_loss: 0.7294 - val_accuracy: 0.7057\n",
      "Epoch 10/70\n",
      "61/61 [==============================] - 17s 275ms/step - loss: 0.7305 - accuracy: 0.7027 - val_loss: 0.6905 - val_accuracy: 0.7213\n",
      "Epoch 11/70\n",
      "61/61 [==============================] - 15s 251ms/step - loss: 0.6571 - accuracy: 0.7337 - val_loss: 0.6067 - val_accuracy: 0.7574\n",
      "Epoch 12/70\n",
      "61/61 [==============================] - 19s 316ms/step - loss: 0.6234 - accuracy: 0.7475 - val_loss: 0.5655 - val_accuracy: 0.7815\n",
      "Epoch 13/70\n",
      "61/61 [==============================] - 15s 245ms/step - loss: 0.5794 - accuracy: 0.7688 - val_loss: 0.5582 - val_accuracy: 0.7805\n",
      "Epoch 14/70\n",
      "61/61 [==============================] - 15s 248ms/step - loss: 0.5417 - accuracy: 0.7830 - val_loss: 0.4983 - val_accuracy: 0.8117\n",
      "Epoch 15/70\n",
      "61/61 [==============================] - 15s 253ms/step - loss: 0.5023 - accuracy: 0.7999 - val_loss: 0.4486 - val_accuracy: 0.8235\n",
      "Epoch 16/70\n",
      "61/61 [==============================] - 15s 251ms/step - loss: 0.4682 - accuracy: 0.8137 - val_loss: 0.4184 - val_accuracy: 0.8340\n",
      "Epoch 17/70\n",
      "61/61 [==============================] - 15s 251ms/step - loss: 0.4314 - accuracy: 0.8299 - val_loss: 0.4139 - val_accuracy: 0.8381\n",
      "Epoch 18/70\n",
      "61/61 [==============================] - 15s 253ms/step - loss: 0.3998 - accuracy: 0.8425 - val_loss: 0.3713 - val_accuracy: 0.8545\n",
      "Epoch 19/70\n",
      "61/61 [==============================] - 15s 243ms/step - loss: 0.3789 - accuracy: 0.8493 - val_loss: 0.3418 - val_accuracy: 0.8627\n",
      "Epoch 20/70\n",
      "61/61 [==============================] - 15s 249ms/step - loss: 0.3687 - accuracy: 0.8576 - val_loss: 0.3417 - val_accuracy: 0.8740\n",
      "Epoch 21/70\n",
      "61/61 [==============================] - 15s 251ms/step - loss: 0.3461 - accuracy: 0.8673 - val_loss: 0.3401 - val_accuracy: 0.8740\n",
      "Epoch 22/70\n",
      "61/61 [==============================] - 15s 252ms/step - loss: 0.3290 - accuracy: 0.8737 - val_loss: 0.2999 - val_accuracy: 0.8924\n",
      "Epoch 23/70\n",
      "61/61 [==============================] - 15s 254ms/step - loss: 0.2966 - accuracy: 0.8872 - val_loss: 0.2911 - val_accuracy: 0.8906\n",
      "Epoch 24/70\n",
      "61/61 [==============================] - 15s 244ms/step - loss: 0.2788 - accuracy: 0.8938 - val_loss: 0.2884 - val_accuracy: 0.8981\n",
      "Epoch 25/70\n",
      "61/61 [==============================] - 15s 254ms/step - loss: 0.2791 - accuracy: 0.8918 - val_loss: 0.2545 - val_accuracy: 0.9062\n",
      "Epoch 26/70\n",
      "61/61 [==============================] - 15s 244ms/step - loss: 0.2462 - accuracy: 0.9062 - val_loss: 0.2602 - val_accuracy: 0.9088\n",
      "Epoch 27/70\n",
      "61/61 [==============================] - 16s 255ms/step - loss: 0.2324 - accuracy: 0.9112 - val_loss: 0.2460 - val_accuracy: 0.9106\n",
      "Epoch 28/70\n",
      "61/61 [==============================] - 15s 252ms/step - loss: 0.2397 - accuracy: 0.9100 - val_loss: 0.2398 - val_accuracy: 0.9134\n",
      "Epoch 29/70\n",
      "61/61 [==============================] - 15s 254ms/step - loss: 0.2193 - accuracy: 0.9184 - val_loss: 0.2399 - val_accuracy: 0.9134\n",
      "Epoch 30/70\n",
      "61/61 [==============================] - 17s 279ms/step - loss: 0.2204 - accuracy: 0.9202 - val_loss: 0.2370 - val_accuracy: 0.9134\n",
      "Epoch 31/70\n",
      "61/61 [==============================] - 15s 254ms/step - loss: 0.2171 - accuracy: 0.9204 - val_loss: 0.2487 - val_accuracy: 0.9134\n",
      "Epoch 32/70\n",
      "61/61 [==============================] - 15s 251ms/step - loss: 0.2125 - accuracy: 0.9229 - val_loss: 0.2001 - val_accuracy: 0.9334\n",
      "Epoch 33/70\n",
      "61/61 [==============================] - 15s 245ms/step - loss: 0.1802 - accuracy: 0.9330 - val_loss: 0.1855 - val_accuracy: 0.9339\n",
      "Epoch 34/70\n",
      "61/61 [==============================] - 15s 254ms/step - loss: 0.1634 - accuracy: 0.9393 - val_loss: 0.1833 - val_accuracy: 0.9383\n",
      "Epoch 35/70\n",
      "61/61 [==============================] - 15s 244ms/step - loss: 0.1587 - accuracy: 0.9403 - val_loss: 0.1802 - val_accuracy: 0.9362\n",
      "Epoch 36/70\n",
      "61/61 [==============================] - 16s 266ms/step - loss: 0.1674 - accuracy: 0.9385 - val_loss: 0.1797 - val_accuracy: 0.9401\n",
      "Epoch 37/70\n",
      "61/61 [==============================] - 15s 245ms/step - loss: 0.1582 - accuracy: 0.9423 - val_loss: 0.2105 - val_accuracy: 0.9301\n",
      "Epoch 38/70\n",
      "61/61 [==============================] - 16s 264ms/step - loss: 0.1554 - accuracy: 0.9442 - val_loss: 0.1489 - val_accuracy: 0.9483\n",
      "Epoch 39/70\n",
      "61/61 [==============================] - 15s 245ms/step - loss: 0.1520 - accuracy: 0.9452 - val_loss: 0.1622 - val_accuracy: 0.9508\n",
      "Epoch 40/70\n",
      "61/61 [==============================] - 15s 246ms/step - loss: 0.1402 - accuracy: 0.9500 - val_loss: 0.1726 - val_accuracy: 0.9375\n",
      "Epoch 41/70\n",
      "61/61 [==============================] - 15s 254ms/step - loss: 0.1653 - accuracy: 0.9438 - val_loss: 0.1646 - val_accuracy: 0.9457\n",
      "Epoch 42/70\n",
      "61/61 [==============================] - 15s 244ms/step - loss: 0.1292 - accuracy: 0.9526 - val_loss: 0.1542 - val_accuracy: 0.9493\n",
      "Epoch 43/70\n",
      "61/61 [==============================] - 15s 247ms/step - loss: 0.1306 - accuracy: 0.9531 - val_loss: 0.1709 - val_accuracy: 0.9406\n",
      "Epoch 44/70\n",
      "61/61 [==============================] - 15s 245ms/step - loss: 0.1102 - accuracy: 0.9604 - val_loss: 0.1766 - val_accuracy: 0.9380\n",
      "Epoch 45/70\n",
      "61/61 [==============================] - 15s 253ms/step - loss: 0.1336 - accuracy: 0.9545 - val_loss: 0.1438 - val_accuracy: 0.9552\n",
      "Epoch 46/70\n",
      "61/61 [==============================] - 15s 253ms/step - loss: 0.1337 - accuracy: 0.9538 - val_loss: 0.1504 - val_accuracy: 0.9444\n",
      "Epoch 47/70\n",
      "61/61 [==============================] - 17s 282ms/step - loss: 0.1232 - accuracy: 0.9573 - val_loss: 0.1464 - val_accuracy: 0.9513\n",
      "Epoch 48/70\n",
      "61/61 [==============================] - 15s 253ms/step - loss: 0.1110 - accuracy: 0.9604 - val_loss: 0.1621 - val_accuracy: 0.9483\n",
      "Epoch 49/70\n",
      "61/61 [==============================] - 15s 255ms/step - loss: 0.1302 - accuracy: 0.9525 - val_loss: 0.1626 - val_accuracy: 0.9493\n",
      "Epoch 50/70\n",
      "61/61 [==============================] - 15s 252ms/step - loss: 0.1079 - accuracy: 0.9611 - val_loss: 0.1365 - val_accuracy: 0.9582\n",
      "Epoch 51/70\n",
      "61/61 [==============================] - 15s 252ms/step - loss: 0.0955 - accuracy: 0.9657 - val_loss: 0.1446 - val_accuracy: 0.9547\n",
      "Epoch 52/70\n",
      "61/61 [==============================] - 15s 245ms/step - loss: 0.1080 - accuracy: 0.9623 - val_loss: 0.1341 - val_accuracy: 0.9580\n",
      "Epoch 53/70\n",
      "33/61 [===============>..............] - ETA: 7s - loss: 0.1240 - accuracy: 0.9554"
     ]
    }
   ],
   "source": [
    "history = model.fit(x_train, y_train,\n",
    "          batch_size=batch_size,\n",
    "          epochs=epochs,\n",
    "          verbose=1,validation_data=(x_test,y_test))"
   ]
  },
  {
   "cell_type": "code",
   "execution_count": null,
   "metadata": {
    "colab": {
     "base_uri": "https://localhost:8080/"
    },
    "id": "oxwtaeFkRonq",
    "outputId": "018ee526-e155-49f4-870f-aecdd0dbb18e"
   },
   "outputs": [
    {
     "name": "stdout",
     "output_type": "stream",
     "text": [
      "122/122 [==============================] - 2s 13ms/step - loss: 0.1305 - accuracy: 0.9603\n",
      "Test loss: 0.1304970234632492\n",
      "Test accuracy: 0.9602971076965332\n"
     ]
    }
   ],
   "source": [
    "score = model.evaluate(x_test, y_test, verbose=1)\n",
    "print('Test loss:', score[0])\n",
    "print('Test accuracy:', score[1])"
   ]
  },
  {
   "cell_type": "code",
   "execution_count": null,
   "metadata": {
    "id": "HBOBzEAy6m53"
   },
   "outputs": [],
   "source": [
    "model.summary()"
   ]
  },
  {
   "cell_type": "code",
   "execution_count": null,
   "metadata": {
    "id": "4UdXy2roR2da"
   },
   "outputs": [],
   "source": [
    "# list all data in history\n",
    "print(history.history.keys())\n",
    "import matplotlib.pyplot as plt\n",
    "import numpy"
   ]
  },
  {
   "cell_type": "code",
   "execution_count": null,
   "metadata": {
    "colab": {
     "base_uri": "https://localhost:8080/",
     "height": 472
    },
    "id": "D8qbSr0iSEwd",
    "outputId": "3d327118-d561-4841-a40f-6f38a658fbe7"
   },
   "outputs": [
    {
     "data": {
      "image/png": "[encoded data removed]",
      "text/plain": [
       "<Figure size 640x480 with 1 Axes>"
      ]
     },
     "metadata": {},
     "output_type": "display_data"
    }
   ],
   "source": [
    "# summarize history for accuracy\n",
    "plt.plot(history.history['accuracy'])\n",
    "plt.plot(history.history['val_accuracy'])\n",
    "plt.title('model accuracy')\n",
    "plt.ylabel('accuracy')\n",
    "plt.xlabel('epoch')\n",
    "plt.legend(['train', 'test'], loc='upper left')\n",
    "plt.show()"
   ]
  },
  {
   "cell_type": "code",
   "execution_count": null,
   "metadata": {
    "colab": {
     "base_uri": "https://localhost:8080/",
     "height": 472
    },
    "id": "lWxIYDu6SJlj",
    "outputId": "28ee3ec1-be51-4621-f686-2c157b9264b4"
   },
   "outputs": [
    {
     "data": {
      "image/png": "[encoded data removed]",
      "text/plain": [
       "<Figure size 640x480 with 1 Axes>"
      ]
     },
     "metadata": {},
     "output_type": "display_data"
    }
   ],
   "source": [
    "plt.plot(history.history['val_accuracy'])\n",
    "plt.plot(history.history['val_loss'])\n",
    "plt.title('test model')\n",
    "plt.ylabel('test accuracy')\n",
    "plt.xlabel('test loss')\n",
    "plt.show()"
   ]
  },
  {
   "cell_type": "code",
   "execution_count": null,
   "metadata": {
    "id": "dQ6RT8e9SQAM"
   },
   "outputs": [],
   "source": [
    "y_pred=model.predict(x_test)\n",
    "from sklearn.metrics import confusion_matrix\n",
    "import numpy as np"
   ]
  },
  {
   "cell_type": "code",
   "execution_count": null,
   "metadata": {
    "id": "nVsCgu1ISR3D"
   },
   "outputs": [],
   "source": [
    "y_test[1]"
   ]
  },
  {
   "cell_type": "code",
   "execution_count": null,
   "metadata": {
    "id": "mSHUaZ7RSacQ"
   },
   "outputs": [],
   "source": [
    "y_pred[1]"
   ]
  },
  {
   "cell_type": "code",
   "execution_count": null,
   "metadata": {
    "id": "pdMaFlnoSdPT"
   },
   "outputs": [],
   "source": [
    "y_test1=np.argmax(y_test, axis=1)"
   ]
  },
  {
   "cell_type": "code",
   "execution_count": null,
   "metadata": {
    "id": "y6Ro4gFsSmjb"
   },
   "outputs": [],
   "source": [
    "y_pred=np.argmax(y_pred,axis=1)"
   ]
  },
  {
   "cell_type": "code",
   "execution_count": null,
   "metadata": {
    "id": "CAPTa79RSnz9"
   },
   "outputs": [],
   "source": [
    "y_test1[1]"
   ]
  },
  {
   "cell_type": "code",
   "execution_count": null,
   "metadata": {
    "id": "uW_I4_3BSr8i"
   },
   "outputs": [],
   "source": [
    "y_pred[1]"
   ]
  },
  {
   "cell_type": "code",
   "execution_count": null,
   "metadata": {
    "id": "tnVnsROKSzNg"
   },
   "outputs": [],
   "source": [
    "cmatrix=confusion_matrix(y_test1, y_pred)"
   ]
  },
  {
   "cell_type": "code",
   "execution_count": null,
   "metadata": {
    "id": "RIqAyUeNS3oT"
   },
   "outputs": [],
   "source": [
    "import seaborn as sns\n",
    "figure = plt.figure(figsize=(8, 8))\n",
    "sns.heatmap(cmatrix, annot=True,cmap=plt.cm.Blues)\n",
    "plt.tight_layout()\n",
    "plt.ylabel('True label')\n",
    "plt.xlabel('Predicted label')\n",
    "plt.show()"
   ]
  },
  {
   "cell_type": "code",
   "execution_count": null,
   "metadata": {
    "id": "PpAaXz4LRdLg"
   },
   "outputs": [],
   "source": [
    "from matplotlib import pyplot as plt\n",
    "from sklearn.metrics import confusion_matrix , classification_report\n",
    "import pandas as pd"
   ]
  },
  {
   "cell_type": "code",
   "execution_count": null,
   "metadata": {
    "id": "w9pdAUXWPHcF"
   },
   "outputs": [],
   "source": [
    "print(classification_report(y_test1, y_pred))\n"
   ]
  }
 ],
 "metadata": {
  "colab": {
   "provenance": []
  },
  "kernelspec": {
   "display_name": "Python 3 (ipykernel)",
   "language": "python",
   "name": "python3"
  },
  "language_info": {
   "codemirror_mode": {
    "name": "ipython",
    "version": 3
   },
   "file_extension": ".py",
   "mimetype": "text/x-python",
   "name": "python",
   "nbconvert_exporter": "python",
   "pygments_lexer": "ipython3",
   "version": "3.8.13"
  }
 },
 "nbformat": 4,
 "nbformat_minor": 1
}
