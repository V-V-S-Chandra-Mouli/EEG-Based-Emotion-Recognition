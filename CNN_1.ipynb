{
 "cells": [
  {
   "cell_type": "code",
   "execution_count": null,
   "metadata": {
    "colab": {
     "base_uri": "https://localhost:8080/"
    },
    "id": "jHwV38CMwPu-",
    "outputId": "19eac447-839d-4c00-cf7f-437a13e1cfaf"
   },
   "outputs": [
    {
     "name": "stdout",
     "output_type": "stream",
     "text": [
      "Looking in indexes: https://pypi.org/simple, https://us-python.pkg.dev/colab-wheels/public/simple/\n",
      "Collecting git+https://github.com/forrestbao/pyeeg.git\n",
      "  Cloning https://github.com/forrestbao/pyeeg.git to /tmp/pip-req-build-lwhnfq0w\n",
      "  Running command git clone -q https://github.com/forrestbao/pyeeg.git /tmp/pip-req-build-lwhnfq0w\n",
      "Requirement already satisfied: numpy>=1.9.2 in /usr/local/lib/python3.7/dist-packages (from pyeeg==0.4.4) (1.21.6)\n",
      "Building wheels for collected packages: pyeeg\n",
      "  Building wheel for pyeeg (setup.py) ... \u001b[?25l\u001b[?25hdone\n",
      "  Created wheel for pyeeg: filename=pyeeg-0.4.4-py2.py3-none-any.whl size=28131 sha256=c0ca2696fddd1399f0edb21121effa30cb93573995c1c451cda22f20357553eb\n",
      "  Stored in directory: /tmp/pip-ephem-wheel-cache-etvqxdac/wheels/b0/23/e4/703c908bda656959957029fa145879aa79307b2545a2ef0271\n",
      "Successfully built pyeeg\n",
      "Installing collected packages: pyeeg\n",
      "Successfully installed pyeeg-0.4.4\n"
     ]
    }
   ],
   "source": [
    "!pip install git+https://github.com/forrestbao/pyeeg.git\n",
    "import numpy as np\n",
    "import pyeeg as pe\n",
    "import pickle as pickle\n",
    "import pandas as pd\n",
    "import math\n",
    "\n",
    "from sklearn import svm\n",
    "from sklearn.preprocessing import normalize\n",
    "\n",
    "import os\n",
    "import time"
   ]
  },
  {
   "cell_type": "code",
   "execution_count": null,
   "metadata": {
    "id": "YwZvASMyy_CI"
   },
   "outputs": [],
   "source": [
    "import pandas as pd\n",
    "import keras.backend as K\n",
    "import numpy as np\n",
    "import pandas as pd\n",
    "from keras.models import Sequential\n",
    "from keras.layers import Dense\n",
    "from keras.models import Sequential\n",
    "from keras.layers.convolutional import Conv1D\n",
    "from keras.layers.convolutional import MaxPooling1D\n",
    "from tensorflow.keras.utils import to_categorical\n",
    "from keras.layers import Flatten\n",
    "from keras.layers import Dense\n",
    "import numpy as np\n",
    "import keras\n",
    "from keras.datasets import mnist\n",
    "from keras.models import Sequential\n",
    "from keras.layers import Dense, Dropout, Flatten, Conv2D, MaxPooling2D\n",
    "from keras import backend as K\n",
    "from keras.models import Model\n",
    "import timeit\n",
    "from keras.models import Sequential\n",
    "from keras.layers.core import Flatten, Dense, Dropout\n",
    "from keras.layers.convolutional import Convolution1D, MaxPooling1D, ZeroPadding1D\n",
    "from tensorflow.keras.optimizers import SGD\n",
    "#import cv2, numpy as np\n",
    "import warnings\n",
    "warnings.filterwarnings('ignore')"
   ]
  },
  {
   "cell_type": "code",
   "execution_count": null,
   "metadata": {
    "colab": {
     "base_uri": "https://localhost:8080/"
    },
    "id": "QuLfUgtVzKvT",
    "outputId": "0a375cb1-48f0-4581-8178-d12cbb8dd214"
   },
   "outputs": [
    {
     "name": "stdout",
     "output_type": "stream",
     "text": [
      "Mounted at /content/drive/\n"
     ]
    }
   ],
   "source": [
    "from google.colab import drive\n",
    "drive.mount('/content/drive/')"
   ]
  },
  {
   "cell_type": "code",
   "execution_count": null,
   "metadata": {
    "id": "sufsUerTzz9B"
   },
   "outputs": [],
   "source": [
    "os.getcwd()\n",
    "os.chdir('/content/drive/My Drive')"
   ]
  },
  {
   "cell_type": "code",
   "execution_count": null,
   "metadata": {
    "id": "qCyK2LLu0FZE"
   },
   "outputs": [],
   "source": [
    "channel = [1,2,3,4,6,11,13,17,19,20,21,25,29,31] #14 Channels chosen to fit Emotiv Epoch+\n",
    "band = [4,8,12,16,25,45] #5 bands\n",
    "window_size = 256 #Averaging band power of 2 sec\n",
    "step_size = 16 #Each 0.125 sec update once\n",
    "sample_rate = 128 #Sampling rate of 128 Hz\n",
    "subjectList = ['s01','s02','s03']\n",
    "#List of subjects"
   ]
  },
  {
   "cell_type": "code",
   "execution_count": null,
   "metadata": {
    "id": "RPcZcEv_0of3"
   },
   "outputs": [],
   "source": [
    "\n",
    "def FFT_Processing (sub, channel, band, window_size, step_size, sample_rate):\n",
    "    '''\n",
    "    arguments:  string subject\n",
    "                list channel indice\n",
    "                list band\n",
    "                int window size for FFT\n",
    "                int step size for FFT\n",
    "                int sample rate for FFT\n",
    "    return:     void\n",
    "    '''\n",
    "    meta = []\n",
    "    with open(\"/content/drive/MyDrive/eeg dataset/\" + sub + '.dat', 'rb') as file:\n",
    "\n",
    "        subject = pickle.load(file, encoding='latin1') #resolve the python 2 data problem by encoding : latin1\n",
    "\n",
    "        for i in range (0,40):\n",
    "            # loop over 0-39 trails\n",
    "            data = subject[\"data\"][i]\n",
    "            labels = subject[\"labels\"][i]\n",
    "            start = 0;\n",
    "\n",
    "            while start + window_size < data.shape[1]:\n",
    "                meta_array = []\n",
    "                meta_data = [] #meta vector for analysis\n",
    "                for j in channel:\n",
    "                    X = data[j][start : start + window_size] #Slice raw data over 2 sec, at interval of 0.125 sec\n",
    "                    Y = pe.bin_power(X, band, sample_rate) #FFT over 2 sec of channel j, in seq of theta, alpha, low beta, high beta, gamma\n",
    "                    meta_data = meta_data + list(Y[0])\n",
    "\n",
    "                meta_array.append(np.array(meta_data))\n",
    "                meta_array.append(labels)\n",
    "\n",
    "                meta.append(np.array(meta_array))\n",
    "                start = start + step_size\n",
    "\n",
    "        meta = np.array(meta)\n",
    "        np.save('/content/drive/MyDrive/eeg dataset' + sub, meta, allow_pickle=True, fix_imports=True)"
   ]
  },
  {
   "cell_type": "code",
   "execution_count": null,
   "metadata": {
    "id": "8kRYl2GU1H_T"
   },
   "outputs": [],
   "source": [
    "for subjects in subjectList:\n",
    "    FFT_Processing (subjects, channel, band, window_size, step_size, sample_rate)"
   ]
  },
  {
   "cell_type": "code",
   "execution_count": null,
   "metadata": {
    "colab": {
     "base_uri": "https://localhost:8080/"
    },
    "id": "qAGWZgrx2TnI",
    "outputId": "10930628-2fb1-4ed9-a9a1-d8bdb27cd3e2"
   },
   "outputs": [
    {
     "name": "stdout",
     "output_type": "stream",
     "text": [
      "training dataset: (46848, 70) (46848, 4)\n",
      "testing dataset: (11712, 70) (11712, 4)\n"
     ]
    }
   ],
   "source": [
    "data_training = []\n",
    "label_training = []\n",
    "data_testing = []\n",
    "label_testing = []\n",
    "\n",
    "for subjects in subjectList:\n",
    "\n",
    "    with open('/content/drive/MyDrive/eeg dataset' + subjects + '.npy', 'rb') as file:\n",
    "      sub = np.load(file,allow_pickle=True)\n",
    "      for i in range (0,sub.shape[0]):\n",
    "        if i % 5 == 0:\n",
    "          data_testing.append(sub[i][0])\n",
    "          label_testing.append(sub[i][1])\n",
    "        else:\n",
    "          data_training.append(sub[i][0])\n",
    "          label_training.append(sub[i][1])\n",
    "\n",
    "np.save('/content/drive/My Drive/data_training', np.array(data_training), allow_pickle=True, fix_imports=True)\n",
    "np.save('/content/drive/My Drive/label_training', np.array(label_training), allow_pickle=True, fix_imports=True)\n",
    "print(\"training dataset:\", np.array(data_training).shape, np.array(label_training).shape)\n",
    "\n",
    "np.save('/content/drive/My Drive/data_testing', np.array(data_testing), allow_pickle=True, fix_imports=True)\n",
    "np.save('/content/drive/My Drive/label_testing', np.array(label_testing), allow_pickle=True, fix_imports=True)\n",
    "print(\"testing dataset:\", np.array(data_testing).shape, np.array(label_testing).shape)"
   ]
  },
  {
   "cell_type": "code",
   "execution_count": null,
   "metadata": {
    "id": "xBxiN6WZ3OVX"
   },
   "outputs": [],
   "source": [
    "with open('/content/drive/My Drive/data_training.npy', 'rb') as fileTrain:\n",
    "    X  = np.load(fileTrain)\n",
    "\n",
    "with open('/content/drive/My Drive/label_training.npy', 'rb') as fileTrainL:\n",
    "    Y  = np.load(fileTrainL)\n",
    "\n",
    "X = normalize(X)\n",
    "Z = np.ravel(Y[:, [3]])\n",
    "\n",
    "Arousal_Train = np.ravel(Y[:, [0]])\n",
    "Valence_Train = np.ravel(Y[:, [1]])\n",
    "Domain_Train = np.ravel(Y[:, [2]])\n",
    "Like_Train = np.ravel(Y[:, [3]])"
   ]
  },
  {
   "cell_type": "code",
   "execution_count": null,
   "metadata": {
    "colab": {
     "base_uri": "https://localhost:8080/"
    },
    "id": "Sl-_-3qx3bp0",
    "outputId": "643eb2b6-be61-4b78-b5a8-34e5f0604e8e"
   },
   "outputs": [
    {
     "data": {
      "text/plain": [
       "(46848, 70)"
      ]
     },
     "execution_count": 19,
     "metadata": {},
     "output_type": "execute_result"
    }
   ],
   "source": [
    "X.shape"
   ]
  },
  {
   "cell_type": "code",
   "execution_count": null,
   "metadata": {
    "colab": {
     "base_uri": "https://localhost:8080/"
    },
    "id": "hsXSfG-p3flf",
    "outputId": "45946301-0d77-49f3-d58a-6b3d47f7e561"
   },
   "outputs": [
    {
     "data": {
      "text/plain": [
       "array([[0., 0., 0., ..., 1., 0., 0.],\n",
       "       [0., 0., 0., ..., 1., 0., 0.],\n",
       "       [0., 0., 0., ..., 1., 0., 0.],\n",
       "       ...,\n",
       "       [0., 0., 0., ..., 0., 0., 0.],\n",
       "       [0., 0., 0., ..., 0., 0., 0.],\n",
       "       [0., 0., 0., ..., 0., 0., 0.]], dtype=float32)"
      ]
     },
     "execution_count": 21,
     "metadata": {},
     "output_type": "execute_result"
    }
   ],
   "source": [
    "from tensorflow.keras.utils import to_categorical\n",
    "y_train = to_categorical(Z)\n",
    "y_train"
   ]
  },
  {
   "cell_type": "code",
   "execution_count": null,
   "metadata": {
    "colab": {
     "base_uri": "https://localhost:8080/"
    },
    "id": "eD3rsK693n11",
    "outputId": "a9073bcb-c56b-4731-b5ce-ad2a2e79e1e4"
   },
   "outputs": [
    {
     "data": {
      "text/plain": [
       "(46848, 10)"
      ]
     },
     "execution_count": 22,
     "metadata": {},
     "output_type": "execute_result"
    }
   ],
   "source": [
    "y_train.shape"
   ]
  },
  {
   "cell_type": "code",
   "execution_count": null,
   "metadata": {
    "id": "TI3m_a1z3ut7"
   },
   "outputs": [],
   "source": [
    "x_train = np.array(X[:])"
   ]
  },
  {
   "cell_type": "code",
   "execution_count": null,
   "metadata": {
    "id": "-wN9dN5d30X-"
   },
   "outputs": [],
   "source": [
    "with open('/content/drive/My Drive/data_testing.npy', 'rb') as fileTrain:\n",
    "    M  = np.load(fileTrain)\n",
    "\n",
    "with open('/content/drive/My Drive/label_testing.npy', 'rb') as fileTrainL:\n",
    "    N  = np.load(fileTrainL)\n",
    "\n",
    "M = normalize(M)\n",
    "L = np.ravel(N[:, [3]])\n",
    "\n",
    "Arousal_Test = np.ravel(N[:, [0]])\n",
    "Valence_Test = np.ravel(N[:, [1]])\n",
    "Domain_Test = np.ravel(N[:, [2]])\n",
    "Like_Test = np.ravel(N[:, [3]])"
   ]
  },
  {
   "cell_type": "code",
   "execution_count": null,
   "metadata": {
    "id": "gyJjEkzy360C"
   },
   "outputs": [],
   "source": [
    "x_test = np.array(M[:])"
   ]
  },
  {
   "cell_type": "code",
   "execution_count": null,
   "metadata": {
    "colab": {
     "base_uri": "https://localhost:8080/"
    },
    "id": "nMJ21SNO4CHX",
    "outputId": "7822f743-e11b-4646-9e05-c9272ce51678"
   },
   "outputs": [
    {
     "data": {
      "text/plain": [
       "array([[0., 0., 0., ..., 1., 0., 0.],\n",
       "       [0., 0., 0., ..., 1., 0., 0.],\n",
       "       [0., 0., 0., ..., 1., 0., 0.],\n",
       "       ...,\n",
       "       [0., 0., 0., ..., 0., 0., 0.],\n",
       "       [0., 0., 0., ..., 0., 0., 0.],\n",
       "       [0., 0., 0., ..., 0., 0., 0.]], dtype=float32)"
      ]
     },
     "execution_count": 26,
     "metadata": {},
     "output_type": "execute_result"
    }
   ],
   "source": [
    "from tensorflow.keras.utils import to_categorical\n",
    "y_test = to_categorical(L)\n",
    "y_test"
   ]
  },
  {
   "cell_type": "code",
   "execution_count": null,
   "metadata": {
    "colab": {
     "base_uri": "https://localhost:8080/"
    },
    "id": "zDE5TJPd4F74",
    "outputId": "a0860558-a55f-4b20-ad4a-1a407f30620a"
   },
   "outputs": [
    {
     "data": {
      "text/plain": [
       "array([0., 0., 0., 0., 0., 0., 0., 1., 0., 0.], dtype=float32)"
      ]
     },
     "execution_count": 27,
     "metadata": {},
     "output_type": "execute_result"
    }
   ],
   "source": [
    "y_test[1]"
   ]
  },
  {
   "cell_type": "code",
   "execution_count": null,
   "metadata": {
    "id": "kEMpOF034LN4"
   },
   "outputs": [],
   "source": [
    "from sklearn.preprocessing import StandardScaler\n",
    "scaler = StandardScaler()\n",
    "x_train = scaler.fit_transform(x_train)\n",
    "x_test = scaler.fit_transform(x_test)"
   ]
  },
  {
   "cell_type": "code",
   "execution_count": null,
   "metadata": {
    "id": "fXlzTWXc4Run"
   },
   "outputs": [],
   "source": [
    "\n",
    "x_train = x_train.reshape(x_train.shape[0],x_train.shape[1], 1)\n",
    "x_test = x_test.reshape(x_test.shape[0],x_test.shape[1], 1)"
   ]
  },
  {
   "cell_type": "code",
   "execution_count": null,
   "metadata": {
    "colab": {
     "base_uri": "https://localhost:8080/"
    },
    "id": "3eIhRqIc4VMW",
    "outputId": "28d19c77-c898-4f1d-f716-180687bee8c6"
   },
   "outputs": [
    {
     "data": {
      "text/plain": [
       "(46848, 70, 1)"
      ]
     },
     "execution_count": 30,
     "metadata": {},
     "output_type": "execute_result"
    }
   ],
   "source": [
    "x_train.shape"
   ]
  },
  {
   "cell_type": "code",
   "execution_count": null,
   "metadata": {
    "id": "6zm-qxkE4W18"
   },
   "outputs": [],
   "source": [
    "batch_size = 256\n",
    "num_classes = 8\n",
    "epochs = 200\n",
    "input_shape=(x_train.shape[1], 1)"
   ]
  },
  {
   "cell_type": "code",
   "execution_count": null,
   "metadata": {
    "colab": {
     "base_uri": "https://localhost:8080/"
    },
    "id": "JfgTjHSV4b3v",
    "outputId": "c0dcecb8-eeab-49ed-abed-03fc7b66cc65"
   },
   "outputs": [
    {
     "name": "stdout",
     "output_type": "stream",
     "text": [
      "(70, 1)\n"
     ]
    }
   ],
   "source": [
    "print(input_shape)"
   ]
  },
  {
   "cell_type": "code",
   "execution_count": null,
   "metadata": {
    "id": "d6H4SAPU4iYS"
   },
   "outputs": [],
   "source": [
    "from keras.layers import Convolution1D, ZeroPadding1D, MaxPooling1D, BatchNormalization, Activation, Dropout, Flatten, Dense\n",
    "from keras.regularizers import l2"
   ]
  },
  {
   "cell_type": "code",
   "execution_count": null,
   "metadata": {
    "colab": {
     "base_uri": "https://localhost:8080/"
    },
    "id": "CduJUmMR4mZa",
    "outputId": "a4587494-fc57-46a2-fbc2-9654d78e1dbb"
   },
   "outputs": [
    {
     "name": "stdout",
     "output_type": "stream",
     "text": [
      "Model: \"sequential\"\n",
      "_________________________________________________________________\n",
      " Layer (type)                Output Shape              Param #   \n",
      "=================================================================\n",
      " conv1d (Conv1D)             (None, 70, 128)           512       \n",
      "                                                                 \n",
      " batch_normalization (BatchN  (None, 70, 128)          512       \n",
      " ormalization)                                                   \n",
      "                                                                 \n",
      " max_pooling1d (MaxPooling1D  (None, 35, 128)          0         \n",
      " )                                                               \n",
      "                                                                 \n",
      " conv1d_1 (Conv1D)           (None, 35, 128)           49280     \n",
      "                                                                 \n",
      " batch_normalization_1 (Batc  (None, 35, 128)          512       \n",
      " hNormalization)                                                 \n",
      "                                                                 \n",
      " max_pooling1d_1 (MaxPooling  (None, 17, 128)          0         \n",
      " 1D)                                                             \n",
      "                                                                 \n",
      " conv1d_2 (Conv1D)           (None, 17, 64)            24640     \n",
      "                                                                 \n",
      " max_pooling1d_2 (MaxPooling  (None, 8, 64)            0         \n",
      " 1D)                                                             \n",
      "                                                                 \n",
      " flatten (Flatten)           (None, 512)               0         \n",
      "                                                                 \n",
      " dense (Dense)               (None, 64)                32832     \n",
      "                                                                 \n",
      " dropout (Dropout)           (None, 64)                0         \n",
      "                                                                 \n",
      " dense_1 (Dense)             (None, 32)                2080      \n",
      "                                                                 \n",
      " dropout_1 (Dropout)         (None, 32)                0         \n",
      "                                                                 \n",
      " dense_2 (Dense)             (None, 16)                528       \n",
      "                                                                 \n",
      " dropout_2 (Dropout)         (None, 16)                0         \n",
      "                                                                 \n",
      " dense_3 (Dense)             (None, 10)                170       \n",
      "                                                                 \n",
      "=================================================================\n",
      "Total params: 111,066\n",
      "Trainable params: 110,554\n",
      "Non-trainable params: 512\n",
      "_________________________________________________________________\n"
     ]
    }
   ],
   "source": [
    "model = Sequential()\n",
    "intput_shape=(x_train.shape[1], 1)\n",
    "model.add(Conv1D(128, kernel_size=3,padding = 'same',activation='relu', input_shape=input_shape))\n",
    "model.add(BatchNormalization())\n",
    "model.add(MaxPooling1D(pool_size=(2)))\n",
    "model.add(Conv1D(128,kernel_size=3,padding = 'same', activation='relu'))\n",
    "model.add(BatchNormalization())\n",
    "model.add(MaxPooling1D(pool_size=(2)))\n",
    "model.add(Conv1D(64,kernel_size=3,padding = 'same', activation='relu'))\n",
    "model.add(MaxPooling1D(pool_size=(2)))\n",
    "model.add(Flatten())\n",
    "model.add(Dense(64, activation='tanh'))\n",
    "model.add(Dropout(0.2))\n",
    "model.add(Dense(32, activation='tanh'))\n",
    "model.add(Dropout(0.2))\n",
    "model.add(Dense(16, activation='relu'))\n",
    "model.add(Dropout(0.2))\n",
    "model.add(Dense(num_classes, activation='softmax'))\n",
    "model.summary()"
   ]
  },
  {
   "cell_type": "code",
   "execution_count": null,
   "metadata": {
    "id": "oJ2yPFr_4s3-"
   },
   "outputs": [],
   "source": [
    "model.compile(loss=keras.losses.categorical_crossentropy,\n",
    "              optimizer='adam',\n",
    "              metrics=['accuracy'])"
   ]
  },
  {
   "cell_type": "code",
   "execution_count": null,
   "metadata": {
    "colab": {
     "base_uri": "https://localhost:8080/"
    },
    "id": "J7cU4kX2434d",
    "outputId": "9245018c-02b2-437b-81cc-decb894fd283"
   },
   "outputs": [
    {
     "name": "stdout",
     "output_type": "stream",
     "text": [
      "Epoch 1/200\n",
      "183/183 [==============================] - 31s 163ms/step - loss: 1.6727 - accuracy: 0.3243 - val_loss: 1.7416 - val_accuracy: 0.1835\n",
      "Epoch 2/200\n",
      "183/183 [==============================] - 31s 167ms/step - loss: 1.4733 - accuracy: 0.3990 - val_loss: 1.4774 - val_accuracy: 0.3764\n",
      "Epoch 3/200\n",
      "183/183 [==============================] - 32s 173ms/step - loss: 1.3608 - accuracy: 0.4498 - val_loss: 1.1996 - val_accuracy: 0.5067\n",
      "Epoch 4/200\n",
      "183/183 [==============================] - 32s 177ms/step - loss: 1.2575 - accuracy: 0.4923 - val_loss: 1.1077 - val_accuracy: 0.5411\n",
      "Epoch 5/200\n",
      "183/183 [==============================] - 30s 164ms/step - loss: 1.1847 - accuracy: 0.5184 - val_loss: 1.0456 - val_accuracy: 0.5699\n",
      "Epoch 6/200\n",
      "183/183 [==============================] - 30s 164ms/step - loss: 1.1156 - accuracy: 0.5510 - val_loss: 0.9735 - val_accuracy: 0.5999\n",
      "Epoch 7/200\n",
      "183/183 [==============================] - 32s 174ms/step - loss: 1.0563 - accuracy: 0.5741 - val_loss: 0.9470 - val_accuracy: 0.6184\n",
      "Epoch 8/200\n",
      "183/183 [==============================] - 30s 164ms/step - loss: 1.0036 - accuracy: 0.5959 - val_loss: 0.8774 - val_accuracy: 0.6427\n",
      "Epoch 9/200\n",
      "183/183 [==============================] - 30s 164ms/step - loss: 0.9630 - accuracy: 0.6160 - val_loss: 0.8381 - val_accuracy: 0.6668\n",
      "Epoch 10/200\n",
      "183/183 [==============================] - 30s 164ms/step - loss: 0.9189 - accuracy: 0.6303 - val_loss: 0.7956 - val_accuracy: 0.6789\n",
      "Epoch 11/200\n",
      "183/183 [==============================] - 30s 165ms/step - loss: 0.8881 - accuracy: 0.6455 - val_loss: 0.8308 - val_accuracy: 0.6690\n",
      "Epoch 12/200\n",
      "183/183 [==============================] - 32s 174ms/step - loss: 0.8580 - accuracy: 0.6579 - val_loss: 0.7659 - val_accuracy: 0.6904\n",
      "Epoch 13/200\n",
      "183/183 [==============================] - 30s 163ms/step - loss: 0.8283 - accuracy: 0.6723 - val_loss: 0.7409 - val_accuracy: 0.7041\n",
      "Epoch 14/200\n",
      "183/183 [==============================] - 30s 164ms/step - loss: 0.8092 - accuracy: 0.6762 - val_loss: 0.7169 - val_accuracy: 0.7106\n",
      "Epoch 15/200\n",
      "183/183 [==============================] - 30s 163ms/step - loss: 0.7794 - accuracy: 0.6916 - val_loss: 0.6969 - val_accuracy: 0.7229\n",
      "Epoch 16/200\n",
      "183/183 [==============================] - 32s 173ms/step - loss: 0.7589 - accuracy: 0.6985 - val_loss: 0.6788 - val_accuracy: 0.7295\n",
      "Epoch 17/200\n",
      "183/183 [==============================] - 30s 163ms/step - loss: 0.7383 - accuracy: 0.7102 - val_loss: 0.6591 - val_accuracy: 0.7388\n",
      "Epoch 18/200\n",
      "183/183 [==============================] - 30s 165ms/step - loss: 0.7159 - accuracy: 0.7174 - val_loss: 0.6502 - val_accuracy: 0.7431\n",
      "Epoch 19/200\n",
      "183/183 [==============================] - 30s 163ms/step - loss: 0.7035 - accuracy: 0.7211 - val_loss: 0.6472 - val_accuracy: 0.7391\n",
      "Epoch 20/200\n",
      "183/183 [==============================] - 30s 163ms/step - loss: 0.6834 - accuracy: 0.7282 - val_loss: 0.6429 - val_accuracy: 0.7485\n",
      "Epoch 21/200\n",
      "183/183 [==============================] - 32s 173ms/step - loss: 0.6716 - accuracy: 0.7362 - val_loss: 0.6184 - val_accuracy: 0.7515\n",
      "Epoch 22/200\n",
      "183/183 [==============================] - 30s 163ms/step - loss: 0.6568 - accuracy: 0.7431 - val_loss: 0.6376 - val_accuracy: 0.7488\n",
      "Epoch 23/200\n",
      "183/183 [==============================] - 30s 163ms/step - loss: 0.6427 - accuracy: 0.7475 - val_loss: 0.6139 - val_accuracy: 0.7588\n",
      "Epoch 24/200\n",
      "183/183 [==============================] - 30s 164ms/step - loss: 0.6330 - accuracy: 0.7527 - val_loss: 0.5983 - val_accuracy: 0.7647\n",
      "Epoch 25/200\n",
      "183/183 [==============================] - 32s 173ms/step - loss: 0.6224 - accuracy: 0.7561 - val_loss: 0.5834 - val_accuracy: 0.7754\n",
      "Epoch 26/200\n",
      "183/183 [==============================] - 30s 163ms/step - loss: 0.6046 - accuracy: 0.7626 - val_loss: 0.5782 - val_accuracy: 0.7769\n",
      "Epoch 27/200\n",
      "183/183 [==============================] - 30s 163ms/step - loss: 0.5914 - accuracy: 0.7698 - val_loss: 0.5797 - val_accuracy: 0.7781\n",
      "Epoch 28/200\n",
      "183/183 [==============================] - 30s 163ms/step - loss: 0.5844 - accuracy: 0.7727 - val_loss: 0.5718 - val_accuracy: 0.7780\n",
      "Epoch 29/200\n",
      "183/183 [==============================] - 32s 173ms/step - loss: 0.5715 - accuracy: 0.7791 - val_loss: 0.5976 - val_accuracy: 0.7789\n",
      "Epoch 30/200\n",
      "183/183 [==============================] - 30s 165ms/step - loss: 0.5685 - accuracy: 0.7771 - val_loss: 0.5599 - val_accuracy: 0.7860\n",
      "Epoch 31/200\n",
      "183/183 [==============================] - 30s 163ms/step - loss: 0.5550 - accuracy: 0.7840 - val_loss: 0.5555 - val_accuracy: 0.7861\n",
      "Epoch 32/200\n",
      "183/183 [==============================] - 30s 165ms/step - loss: 0.5555 - accuracy: 0.7858 - val_loss: 0.5506 - val_accuracy: 0.7939\n",
      "Epoch 33/200\n",
      "183/183 [==============================] - 32s 175ms/step - loss: 0.5378 - accuracy: 0.7926 - val_loss: 0.5586 - val_accuracy: 0.7963\n",
      "Epoch 34/200\n",
      "183/183 [==============================] - 30s 167ms/step - loss: 0.5323 - accuracy: 0.7920 - val_loss: 0.5306 - val_accuracy: 0.7973\n",
      "Epoch 35/200\n",
      "183/183 [==============================] - 30s 163ms/step - loss: 0.5194 - accuracy: 0.7982 - val_loss: 0.5342 - val_accuracy: 0.7981\n",
      "Epoch 36/200\n",
      "183/183 [==============================] - 30s 165ms/step - loss: 0.5101 - accuracy: 0.8005 - val_loss: 0.5349 - val_accuracy: 0.7982\n",
      "Epoch 37/200\n",
      "183/183 [==============================] - 32s 175ms/step - loss: 0.5072 - accuracy: 0.8023 - val_loss: 0.5304 - val_accuracy: 0.8009\n",
      "Epoch 38/200\n",
      "183/183 [==============================] - 30s 163ms/step - loss: 0.5090 - accuracy: 0.8036 - val_loss: 0.5671 - val_accuracy: 0.7923\n",
      "Epoch 39/200\n",
      "183/183 [==============================] - 30s 163ms/step - loss: 0.5070 - accuracy: 0.8041 - val_loss: 0.5352 - val_accuracy: 0.7974\n",
      "Epoch 40/200\n",
      "183/183 [==============================] - 30s 164ms/step - loss: 0.4920 - accuracy: 0.8088 - val_loss: 0.5235 - val_accuracy: 0.8048\n",
      "Epoch 41/200\n",
      "183/183 [==============================] - 32s 173ms/step - loss: 0.4841 - accuracy: 0.8136 - val_loss: 0.5170 - val_accuracy: 0.8090\n",
      "Epoch 42/200\n",
      "183/183 [==============================] - 30s 165ms/step - loss: 0.4807 - accuracy: 0.8140 - val_loss: 0.5206 - val_accuracy: 0.8102\n",
      "Epoch 43/200\n",
      "183/183 [==============================] - 30s 164ms/step - loss: 0.4715 - accuracy: 0.8188 - val_loss: 0.5075 - val_accuracy: 0.8113\n",
      "Epoch 44/200\n",
      "183/183 [==============================] - 30s 165ms/step - loss: 0.4789 - accuracy: 0.8145 - val_loss: 0.5208 - val_accuracy: 0.8071\n",
      "Epoch 45/200\n",
      "183/183 [==============================] - 32s 174ms/step - loss: 0.4701 - accuracy: 0.8175 - val_loss: 0.5101 - val_accuracy: 0.8130\n",
      "Epoch 46/200\n",
      "183/183 [==============================] - 30s 166ms/step - loss: 0.4690 - accuracy: 0.8205 - val_loss: 0.5154 - val_accuracy: 0.8116\n",
      "Epoch 47/200\n",
      "183/183 [==============================] - 30s 167ms/step - loss: 0.4540 - accuracy: 0.8245 - val_loss: 0.5045 - val_accuracy: 0.8166\n",
      "Epoch 48/200\n",
      "183/183 [==============================] - 30s 166ms/step - loss: 0.4510 - accuracy: 0.8255 - val_loss: 0.5203 - val_accuracy: 0.8180\n",
      "Epoch 49/200\n",
      "183/183 [==============================] - 31s 170ms/step - loss: 0.4514 - accuracy: 0.8252 - val_loss: 0.5218 - val_accuracy: 0.8157\n",
      "Epoch 50/200\n",
      "183/183 [==============================] - 31s 170ms/step - loss: 0.4468 - accuracy: 0.8308 - val_loss: 0.5138 - val_accuracy: 0.8196\n",
      "Epoch 51/200\n",
      "183/183 [==============================] - 30s 166ms/step - loss: 0.4448 - accuracy: 0.8296 - val_loss: 0.5286 - val_accuracy: 0.8101\n",
      "Epoch 52/200\n",
      "183/183 [==============================] - 30s 166ms/step - loss: 0.4349 - accuracy: 0.8329 - val_loss: 0.4898 - val_accuracy: 0.8272\n",
      "Epoch 53/200\n",
      "183/183 [==============================] - 30s 166ms/step - loss: 0.4277 - accuracy: 0.8354 - val_loss: 0.4986 - val_accuracy: 0.8250\n",
      "Epoch 54/200\n",
      "183/183 [==============================] - 32s 175ms/step - loss: 0.4310 - accuracy: 0.8343 - val_loss: 0.5142 - val_accuracy: 0.8216\n",
      "Epoch 55/200\n",
      "183/183 [==============================] - 30s 165ms/step - loss: 0.4209 - accuracy: 0.8370 - val_loss: 0.5011 - val_accuracy: 0.8214\n",
      "Epoch 56/200\n",
      "183/183 [==============================] - 30s 165ms/step - loss: 0.4223 - accuracy: 0.8390 - val_loss: 0.5086 - val_accuracy: 0.8222\n",
      "Epoch 57/200\n",
      "183/183 [==============================] - 30s 165ms/step - loss: 0.4257 - accuracy: 0.8389 - val_loss: 0.4771 - val_accuracy: 0.8313\n",
      "Epoch 58/200\n",
      "183/183 [==============================] - 32s 175ms/step - loss: 0.4128 - accuracy: 0.8426 - val_loss: 0.4918 - val_accuracy: 0.8291\n",
      "Epoch 59/200\n",
      "183/183 [==============================] - 30s 165ms/step - loss: 0.4150 - accuracy: 0.8416 - val_loss: 0.4709 - val_accuracy: 0.8350\n",
      "Epoch 60/200\n",
      "183/183 [==============================] - 30s 165ms/step - loss: 0.4088 - accuracy: 0.8447 - val_loss: 0.5069 - val_accuracy: 0.8238\n",
      "Epoch 61/200\n",
      "183/183 [==============================] - 30s 165ms/step - loss: 0.4171 - accuracy: 0.8422 - val_loss: 0.4927 - val_accuracy: 0.8301\n",
      "Epoch 62/200\n",
      "183/183 [==============================] - 32s 174ms/step - loss: 0.3992 - accuracy: 0.8490 - val_loss: 0.5042 - val_accuracy: 0.8231\n",
      "Epoch 63/200\n",
      "183/183 [==============================] - 30s 164ms/step - loss: 0.3928 - accuracy: 0.8517 - val_loss: 0.5215 - val_accuracy: 0.8337\n",
      "Epoch 64/200\n",
      "183/183 [==============================] - 30s 164ms/step - loss: 0.3915 - accuracy: 0.8521 - val_loss: 0.4946 - val_accuracy: 0.8337\n",
      "Epoch 65/200\n",
      "183/183 [==============================] - 30s 165ms/step - loss: 0.3982 - accuracy: 0.8491 - val_loss: 0.5022 - val_accuracy: 0.8352\n",
      "Epoch 66/200\n",
      "183/183 [==============================] - 32s 176ms/step - loss: 0.4001 - accuracy: 0.8491 - val_loss: 0.4881 - val_accuracy: 0.8352\n",
      "Epoch 67/200\n",
      "183/183 [==============================] - 30s 165ms/step - loss: 0.3905 - accuracy: 0.8529 - val_loss: 0.4752 - val_accuracy: 0.8385\n",
      "Epoch 68/200\n",
      "183/183 [==============================] - 30s 165ms/step - loss: 0.3819 - accuracy: 0.8545 - val_loss: 0.4981 - val_accuracy: 0.8360\n",
      "Epoch 69/200\n",
      "183/183 [==============================] - 31s 167ms/step - loss: 0.3867 - accuracy: 0.8550 - val_loss: 0.4649 - val_accuracy: 0.8420\n",
      "Epoch 70/200\n",
      "183/183 [==============================] - 32s 173ms/step - loss: 0.3825 - accuracy: 0.8557 - val_loss: 0.4684 - val_accuracy: 0.8431\n",
      "Epoch 71/200\n",
      "183/183 [==============================] - 30s 165ms/step - loss: 0.3770 - accuracy: 0.8580 - val_loss: 0.5023 - val_accuracy: 0.8352\n",
      "Epoch 72/200\n",
      "183/183 [==============================] - 30s 166ms/step - loss: 0.3767 - accuracy: 0.8566 - val_loss: 0.4662 - val_accuracy: 0.8416\n",
      "Epoch 73/200\n",
      "183/183 [==============================] - 31s 170ms/step - loss: 0.3786 - accuracy: 0.8565 - val_loss: 0.4857 - val_accuracy: 0.8369\n",
      "Epoch 74/200\n",
      "183/183 [==============================] - 32s 174ms/step - loss: 0.3750 - accuracy: 0.8588 - val_loss: 0.5000 - val_accuracy: 0.8332\n",
      "Epoch 75/200\n",
      "183/183 [==============================] - 31s 167ms/step - loss: 0.3676 - accuracy: 0.8620 - val_loss: 0.4879 - val_accuracy: 0.8400\n",
      "Epoch 76/200\n",
      "183/183 [==============================] - 30s 166ms/step - loss: 0.3667 - accuracy: 0.8630 - val_loss: 0.4987 - val_accuracy: 0.8380\n",
      "Epoch 77/200\n",
      "183/183 [==============================] - 31s 171ms/step - loss: 0.3584 - accuracy: 0.8669 - val_loss: 0.4703 - val_accuracy: 0.8408\n",
      "Epoch 78/200\n",
      "183/183 [==============================] - 31s 171ms/step - loss: 0.3597 - accuracy: 0.8657 - val_loss: 0.4540 - val_accuracy: 0.8533\n",
      "Epoch 79/200\n",
      "183/183 [==============================] - 30s 166ms/step - loss: 0.3671 - accuracy: 0.8626 - val_loss: 0.4705 - val_accuracy: 0.8493\n",
      "Epoch 80/200\n",
      "183/183 [==============================] - 30s 165ms/step - loss: 0.3644 - accuracy: 0.8645 - val_loss: 0.4592 - val_accuracy: 0.8490\n",
      "Epoch 81/200\n",
      "183/183 [==============================] - 31s 172ms/step - loss: 0.3518 - accuracy: 0.8673 - val_loss: 0.4625 - val_accuracy: 0.8504\n",
      "Epoch 82/200\n",
      "183/183 [==============================] - 31s 169ms/step - loss: 0.3478 - accuracy: 0.8704 - val_loss: 0.5050 - val_accuracy: 0.8391\n",
      "Epoch 83/200\n",
      "183/183 [==============================] - 30s 166ms/step - loss: 0.3465 - accuracy: 0.8695 - val_loss: 0.4738 - val_accuracy: 0.8525\n",
      "Epoch 84/200\n",
      "183/183 [==============================] - 30s 165ms/step - loss: 0.3506 - accuracy: 0.8690 - val_loss: 0.4780 - val_accuracy: 0.8470\n",
      "Epoch 85/200\n",
      "183/183 [==============================] - 31s 171ms/step - loss: 0.3497 - accuracy: 0.8706 - val_loss: 0.4614 - val_accuracy: 0.8546\n",
      "Epoch 86/200\n",
      "183/183 [==============================] - 31s 171ms/step - loss: 0.3418 - accuracy: 0.8726 - val_loss: 0.4727 - val_accuracy: 0.8499\n",
      "Epoch 87/200\n",
      "183/183 [==============================] - 31s 169ms/step - loss: 0.3398 - accuracy: 0.8741 - val_loss: 0.4512 - val_accuracy: 0.8554\n",
      "Epoch 88/200\n",
      "183/183 [==============================] - 31s 169ms/step - loss: 0.3429 - accuracy: 0.8738 - val_loss: 0.4790 - val_accuracy: 0.8455\n",
      "Epoch 89/200\n",
      "183/183 [==============================] - 33s 180ms/step - loss: 0.3336 - accuracy: 0.8758 - val_loss: 0.4797 - val_accuracy: 0.8489\n",
      "Epoch 90/200\n",
      "183/183 [==============================] - 31s 172ms/step - loss: 0.3533 - accuracy: 0.8695 - val_loss: 0.4683 - val_accuracy: 0.8489\n",
      "Epoch 91/200\n",
      "183/183 [==============================] - 31s 169ms/step - loss: 0.3408 - accuracy: 0.8730 - val_loss: 0.4756 - val_accuracy: 0.8475\n",
      "Epoch 92/200\n",
      "183/183 [==============================] - 31s 171ms/step - loss: 0.3338 - accuracy: 0.8751 - val_loss: 0.4637 - val_accuracy: 0.8519\n",
      "Epoch 93/200\n",
      "183/183 [==============================] - 34s 184ms/step - loss: 0.3313 - accuracy: 0.8759 - val_loss: 0.4772 - val_accuracy: 0.8533\n",
      "Epoch 94/200\n",
      "183/183 [==============================] - 31s 170ms/step - loss: 0.3372 - accuracy: 0.8766 - val_loss: 0.4789 - val_accuracy: 0.8492\n",
      "Epoch 95/200\n",
      "183/183 [==============================] - 31s 171ms/step - loss: 0.3248 - accuracy: 0.8799 - val_loss: 0.4607 - val_accuracy: 0.8537\n",
      "Epoch 96/200\n",
      "183/183 [==============================] - 31s 169ms/step - loss: 0.3250 - accuracy: 0.8812 - val_loss: 0.4544 - val_accuracy: 0.8564\n",
      "Epoch 97/200\n",
      "183/183 [==============================] - 33s 179ms/step - loss: 0.3275 - accuracy: 0.8796 - val_loss: 0.4870 - val_accuracy: 0.8471\n",
      "Epoch 98/200\n",
      "183/183 [==============================] - 31s 169ms/step - loss: 0.3348 - accuracy: 0.8774 - val_loss: 0.4641 - val_accuracy: 0.8520\n",
      "Epoch 99/200\n",
      "183/183 [==============================] - 31s 168ms/step - loss: 0.3189 - accuracy: 0.8822 - val_loss: 0.4637 - val_accuracy: 0.8559\n",
      "Epoch 100/200\n",
      "183/183 [==============================] - 31s 168ms/step - loss: 0.3153 - accuracy: 0.8838 - val_loss: 0.4549 - val_accuracy: 0.8581\n",
      "Epoch 101/200\n",
      "183/183 [==============================] - 32s 177ms/step - loss: 0.3199 - accuracy: 0.8835 - val_loss: 0.4614 - val_accuracy: 0.8543\n",
      "Epoch 102/200\n",
      "183/183 [==============================] - 31s 168ms/step - loss: 0.3179 - accuracy: 0.8830 - val_loss: 0.4536 - val_accuracy: 0.8589\n",
      "Epoch 103/200\n",
      "183/183 [==============================] - 31s 167ms/step - loss: 0.3204 - accuracy: 0.8820 - val_loss: 0.4727 - val_accuracy: 0.8603\n",
      "Epoch 104/200\n",
      "183/183 [==============================] - 31s 168ms/step - loss: 0.3151 - accuracy: 0.8848 - val_loss: 0.4400 - val_accuracy: 0.8625\n",
      "Epoch 105/200\n",
      "183/183 [==============================] - 32s 177ms/step - loss: 0.3055 - accuracy: 0.8876 - val_loss: 0.4826 - val_accuracy: 0.8527\n",
      "Epoch 106/200\n",
      "183/183 [==============================] - 31s 168ms/step - loss: 0.3224 - accuracy: 0.8838 - val_loss: 0.4859 - val_accuracy: 0.8501\n",
      "Epoch 107/200\n",
      "183/183 [==============================] - 30s 167ms/step - loss: 0.3164 - accuracy: 0.8843 - val_loss: 0.4435 - val_accuracy: 0.8619\n",
      "Epoch 108/200\n",
      "183/183 [==============================] - 32s 175ms/step - loss: 0.3071 - accuracy: 0.8886 - val_loss: 0.4504 - val_accuracy: 0.8604\n",
      "Epoch 109/200\n",
      "183/183 [==============================] - 32s 177ms/step - loss: 0.3062 - accuracy: 0.8883 - val_loss: 0.4709 - val_accuracy: 0.8567\n",
      "Epoch 110/200\n",
      "183/183 [==============================] - 31s 167ms/step - loss: 0.3111 - accuracy: 0.8849 - val_loss: 0.4766 - val_accuracy: 0.8558\n",
      "Epoch 111/200\n",
      "183/183 [==============================] - 31s 171ms/step - loss: 0.2993 - accuracy: 0.8903 - val_loss: 0.4508 - val_accuracy: 0.8611\n",
      "Epoch 112/200\n",
      "183/183 [==============================] - 31s 167ms/step - loss: 0.2953 - accuracy: 0.8920 - val_loss: 0.4772 - val_accuracy: 0.8543\n",
      "Epoch 113/200\n",
      "183/183 [==============================] - 32s 176ms/step - loss: 0.3016 - accuracy: 0.8908 - val_loss: 0.4625 - val_accuracy: 0.8572\n",
      "Epoch 114/200\n",
      "183/183 [==============================] - 30s 165ms/step - loss: 0.2976 - accuracy: 0.8905 - val_loss: 0.4815 - val_accuracy: 0.8549\n",
      "Epoch 115/200\n",
      "183/183 [==============================] - 30s 166ms/step - loss: 0.2980 - accuracy: 0.8905 - val_loss: 0.4771 - val_accuracy: 0.8576\n",
      "Epoch 116/200\n",
      "183/183 [==============================] - 30s 166ms/step - loss: 0.3001 - accuracy: 0.8897 - val_loss: 0.4621 - val_accuracy: 0.8642\n",
      "Epoch 117/200\n",
      "183/183 [==============================] - 32s 176ms/step - loss: 0.3000 - accuracy: 0.8919 - val_loss: 0.4688 - val_accuracy: 0.8613\n",
      "Epoch 118/200\n",
      "183/183 [==============================] - 30s 166ms/step - loss: 0.2976 - accuracy: 0.8942 - val_loss: 0.4479 - val_accuracy: 0.8675\n",
      "Epoch 119/200\n",
      "183/183 [==============================] - 31s 167ms/step - loss: 0.2894 - accuracy: 0.8958 - val_loss: 0.4584 - val_accuracy: 0.8615\n",
      "Epoch 120/200\n",
      "183/183 [==============================] - 31s 167ms/step - loss: 0.2947 - accuracy: 0.8951 - val_loss: 0.4467 - val_accuracy: 0.8665\n",
      "Epoch 121/200\n",
      "183/183 [==============================] - 32s 177ms/step - loss: 0.2924 - accuracy: 0.8931 - val_loss: 0.4731 - val_accuracy: 0.8615\n",
      "Epoch 122/200\n",
      "183/183 [==============================] - 31s 168ms/step - loss: 0.2973 - accuracy: 0.8923 - val_loss: 0.4576 - val_accuracy: 0.8595\n",
      "Epoch 123/200\n",
      "183/183 [==============================] - 30s 166ms/step - loss: 0.2931 - accuracy: 0.8945 - val_loss: 0.4710 - val_accuracy: 0.8616\n",
      "Epoch 124/200\n",
      "183/183 [==============================] - 30s 167ms/step - loss: 0.2870 - accuracy: 0.8969 - val_loss: 0.4516 - val_accuracy: 0.8687\n",
      "Epoch 125/200\n",
      "183/183 [==============================] - 32s 177ms/step - loss: 0.2935 - accuracy: 0.8944 - val_loss: 0.4608 - val_accuracy: 0.8630\n",
      "Epoch 126/200\n",
      "183/183 [==============================] - 31s 167ms/step - loss: 0.2880 - accuracy: 0.8970 - val_loss: 0.4430 - val_accuracy: 0.8670\n",
      "Epoch 127/200\n",
      "183/183 [==============================] - 31s 168ms/step - loss: 0.2850 - accuracy: 0.8973 - val_loss: 0.4512 - val_accuracy: 0.8646\n",
      "Epoch 128/200\n",
      "183/183 [==============================] - 31s 169ms/step - loss: 0.2851 - accuracy: 0.8975 - val_loss: 0.4526 - val_accuracy: 0.8681\n",
      "Epoch 129/200\n",
      "183/183 [==============================] - 33s 178ms/step - loss: 0.2779 - accuracy: 0.8998 - val_loss: 0.4463 - val_accuracy: 0.8689\n",
      "Epoch 130/200\n",
      "183/183 [==============================] - 33s 180ms/step - loss: 0.2793 - accuracy: 0.8983 - val_loss: 0.4710 - val_accuracy: 0.8633\n",
      "Epoch 131/200\n",
      "183/183 [==============================] - 31s 168ms/step - loss: 0.2831 - accuracy: 0.8976 - val_loss: 0.4639 - val_accuracy: 0.8673\n",
      "Epoch 132/200\n",
      "183/183 [==============================] - 32s 172ms/step - loss: 0.2762 - accuracy: 0.9001 - val_loss: 0.4723 - val_accuracy: 0.8665\n",
      "Epoch 133/200\n",
      "183/183 [==============================] - 33s 177ms/step - loss: 0.2841 - accuracy: 0.8980 - val_loss: 0.4660 - val_accuracy: 0.8654\n",
      "Epoch 134/200\n",
      "183/183 [==============================] - 31s 169ms/step - loss: 0.2825 - accuracy: 0.9000 - val_loss: 0.4606 - val_accuracy: 0.8671\n",
      "Epoch 135/200\n",
      "183/183 [==============================] - 31s 168ms/step - loss: 0.2794 - accuracy: 0.8988 - val_loss: 0.4845 - val_accuracy: 0.8612\n",
      "Epoch 136/200\n",
      "183/183 [==============================] - 32s 177ms/step - loss: 0.2721 - accuracy: 0.9026 - val_loss: 0.4585 - val_accuracy: 0.8679\n",
      "Epoch 137/200\n",
      "183/183 [==============================] - 31s 167ms/step - loss: 0.2699 - accuracy: 0.9033 - val_loss: 0.4486 - val_accuracy: 0.8668\n",
      "Epoch 138/200\n",
      "183/183 [==============================] - 30s 167ms/step - loss: 0.2727 - accuracy: 0.9034 - val_loss: 0.4495 - val_accuracy: 0.8694\n",
      "Epoch 139/200\n",
      "183/183 [==============================] - 31s 168ms/step - loss: 0.2718 - accuracy: 0.9034 - val_loss: 0.4578 - val_accuracy: 0.8645\n",
      "Epoch 140/200\n",
      "183/183 [==============================] - 32s 177ms/step - loss: 0.2691 - accuracy: 0.9037 - val_loss: 0.4426 - val_accuracy: 0.8729\n",
      "Epoch 141/200\n",
      "183/183 [==============================] - 31s 168ms/step - loss: 0.2675 - accuracy: 0.9044 - val_loss: 0.4767 - val_accuracy: 0.8639\n",
      "Epoch 142/200\n",
      "183/183 [==============================] - 31s 168ms/step - loss: 0.2686 - accuracy: 0.9030 - val_loss: 0.5026 - val_accuracy: 0.8606\n",
      "Epoch 143/200\n",
      "183/183 [==============================] - 31s 168ms/step - loss: 0.2771 - accuracy: 0.9017 - val_loss: 0.4400 - val_accuracy: 0.8764\n",
      "Epoch 144/200\n",
      "183/183 [==============================] - 33s 178ms/step - loss: 0.2590 - accuracy: 0.9065 - val_loss: 0.4590 - val_accuracy: 0.8720\n",
      "Epoch 145/200\n",
      "183/183 [==============================] - 31s 168ms/step - loss: 0.2638 - accuracy: 0.9055 - val_loss: 0.4432 - val_accuracy: 0.8776\n",
      "Epoch 146/200\n",
      "183/183 [==============================] - 31s 168ms/step - loss: 0.2595 - accuracy: 0.9084 - val_loss: 0.4604 - val_accuracy: 0.8667\n",
      "Epoch 147/200\n",
      "183/183 [==============================] - 31s 168ms/step - loss: 0.2596 - accuracy: 0.9068 - val_loss: 0.4590 - val_accuracy: 0.8721\n",
      "Epoch 148/200\n",
      "183/183 [==============================] - 32s 177ms/step - loss: 0.2650 - accuracy: 0.9054 - val_loss: 0.4527 - val_accuracy: 0.8676\n",
      "Epoch 149/200\n",
      "183/183 [==============================] - 31s 168ms/step - loss: 0.2621 - accuracy: 0.9067 - val_loss: 0.4662 - val_accuracy: 0.8693\n",
      "Epoch 150/200\n",
      "183/183 [==============================] - 30s 167ms/step - loss: 0.2646 - accuracy: 0.9047 - val_loss: 0.4444 - val_accuracy: 0.8757\n",
      "Epoch 151/200\n",
      "183/183 [==============================] - 30s 166ms/step - loss: 0.2607 - accuracy: 0.9071 - val_loss: 0.4524 - val_accuracy: 0.8768\n",
      "Epoch 152/200\n",
      "183/183 [==============================] - 32s 177ms/step - loss: 0.2603 - accuracy: 0.9081 - val_loss: 0.4353 - val_accuracy: 0.8788\n",
      "Epoch 153/200\n",
      "183/183 [==============================] - 31s 167ms/step - loss: 0.2652 - accuracy: 0.9045 - val_loss: 0.4664 - val_accuracy: 0.8689\n",
      "Epoch 154/200\n",
      "183/183 [==============================] - 31s 167ms/step - loss: 0.2585 - accuracy: 0.9083 - val_loss: 0.4454 - val_accuracy: 0.8744\n",
      "Epoch 155/200\n",
      "183/183 [==============================] - 31s 169ms/step - loss: 0.2540 - accuracy: 0.9100 - val_loss: 0.4447 - val_accuracy: 0.8733\n",
      "Epoch 156/200\n",
      "183/183 [==============================] - 33s 179ms/step - loss: 0.2493 - accuracy: 0.9118 - val_loss: 0.4532 - val_accuracy: 0.8738\n",
      "Epoch 157/200\n",
      "183/183 [==============================] - 31s 170ms/step - loss: 0.2565 - accuracy: 0.9099 - val_loss: 0.4545 - val_accuracy: 0.8772\n",
      "Epoch 158/200\n",
      "183/183 [==============================] - 31s 170ms/step - loss: 0.2540 - accuracy: 0.9105 - val_loss: 0.4699 - val_accuracy: 0.8692\n",
      "Epoch 159/200\n",
      "183/183 [==============================] - 33s 180ms/step - loss: 0.2484 - accuracy: 0.9123 - val_loss: 0.4470 - val_accuracy: 0.8819\n",
      "Epoch 160/200\n",
      "183/183 [==============================] - 31s 169ms/step - loss: 0.2556 - accuracy: 0.9081 - val_loss: 0.4603 - val_accuracy: 0.8708\n",
      "Epoch 161/200\n",
      "183/183 [==============================] - 31s 169ms/step - loss: 0.2571 - accuracy: 0.9090 - val_loss: 0.4686 - val_accuracy: 0.8742\n",
      "Epoch 162/200\n",
      "183/183 [==============================] - 31s 169ms/step - loss: 0.2615 - accuracy: 0.9076 - val_loss: 0.4529 - val_accuracy: 0.8719\n",
      "Epoch 163/200\n",
      "183/183 [==============================] - 33s 178ms/step - loss: 0.2625 - accuracy: 0.9075 - val_loss: 0.4519 - val_accuracy: 0.8700\n",
      "Epoch 164/200\n",
      "183/183 [==============================] - 31s 168ms/step - loss: 0.2465 - accuracy: 0.9119 - val_loss: 0.4619 - val_accuracy: 0.8776\n",
      "Epoch 165/200\n",
      "183/183 [==============================] - 31s 168ms/step - loss: 0.2482 - accuracy: 0.9134 - val_loss: 0.4644 - val_accuracy: 0.8741\n",
      "Epoch 166/200\n",
      "183/183 [==============================] - 31s 168ms/step - loss: 0.2555 - accuracy: 0.9109 - val_loss: 0.4300 - val_accuracy: 0.8765\n",
      "Epoch 167/200\n",
      "183/183 [==============================] - 33s 179ms/step - loss: 0.2426 - accuracy: 0.9162 - val_loss: 0.4474 - val_accuracy: 0.8778\n",
      "Epoch 168/200\n",
      "183/183 [==============================] - 31s 168ms/step - loss: 0.2462 - accuracy: 0.9126 - val_loss: 0.4533 - val_accuracy: 0.8765\n",
      "Epoch 169/200\n",
      "183/183 [==============================] - 31s 168ms/step - loss: 0.2512 - accuracy: 0.9109 - val_loss: 0.4682 - val_accuracy: 0.8741\n",
      "Epoch 170/200\n",
      "183/183 [==============================] - 31s 168ms/step - loss: 0.2432 - accuracy: 0.9142 - val_loss: 0.4541 - val_accuracy: 0.8772\n",
      "Epoch 171/200\n",
      "183/183 [==============================] - 32s 177ms/step - loss: 0.2461 - accuracy: 0.9143 - val_loss: 0.4290 - val_accuracy: 0.8835\n",
      "Epoch 172/200\n",
      "183/183 [==============================] - 31s 169ms/step - loss: 0.2442 - accuracy: 0.9141 - val_loss: 0.4744 - val_accuracy: 0.8768\n",
      "Epoch 173/200\n",
      "183/183 [==============================] - 31s 168ms/step - loss: 0.2406 - accuracy: 0.9169 - val_loss: 0.4740 - val_accuracy: 0.8746\n",
      "Epoch 174/200\n",
      "183/183 [==============================] - 31s 169ms/step - loss: 0.2478 - accuracy: 0.9129 - val_loss: 0.4668 - val_accuracy: 0.8776\n",
      "Epoch 175/200\n",
      "183/183 [==============================] - 33s 178ms/step - loss: 0.2435 - accuracy: 0.9144 - val_loss: 0.4524 - val_accuracy: 0.8785\n",
      "Epoch 176/200\n",
      "183/183 [==============================] - 31s 168ms/step - loss: 0.2298 - accuracy: 0.9186 - val_loss: 0.4802 - val_accuracy: 0.8736\n",
      "Epoch 177/200\n",
      "183/183 [==============================] - 31s 168ms/step - loss: 0.2473 - accuracy: 0.9131 - val_loss: 0.4577 - val_accuracy: 0.8759\n",
      "Epoch 178/200\n",
      "183/183 [==============================] - 33s 178ms/step - loss: 0.2390 - accuracy: 0.9155 - val_loss: 0.4376 - val_accuracy: 0.8823\n",
      "Epoch 179/200\n",
      "183/183 [==============================] - 31s 168ms/step - loss: 0.2372 - accuracy: 0.9159 - val_loss: 0.4548 - val_accuracy: 0.8797\n",
      "Epoch 180/200\n",
      "183/183 [==============================] - 31s 168ms/step - loss: 0.2374 - accuracy: 0.9155 - val_loss: 0.4441 - val_accuracy: 0.8764\n",
      "Epoch 181/200\n",
      "183/183 [==============================] - 31s 169ms/step - loss: 0.2336 - accuracy: 0.9203 - val_loss: 0.4741 - val_accuracy: 0.8768\n",
      "Epoch 182/200\n",
      "183/183 [==============================] - 33s 179ms/step - loss: 0.2410 - accuracy: 0.9152 - val_loss: 0.4647 - val_accuracy: 0.8782\n",
      "Epoch 183/200\n",
      "183/183 [==============================] - 31s 168ms/step - loss: 0.2358 - accuracy: 0.9166 - val_loss: 0.4471 - val_accuracy: 0.8806\n",
      "Epoch 184/200\n",
      "183/183 [==============================] - 31s 168ms/step - loss: 0.2383 - accuracy: 0.9156 - val_loss: 0.4461 - val_accuracy: 0.8825\n",
      "Epoch 185/200\n",
      "183/183 [==============================] - 31s 168ms/step - loss: 0.2373 - accuracy: 0.9176 - val_loss: 0.4611 - val_accuracy: 0.8829\n",
      "Epoch 186/200\n",
      "183/183 [==============================] - 33s 179ms/step - loss: 0.2281 - accuracy: 0.9196 - val_loss: 0.4559 - val_accuracy: 0.8821\n",
      "Epoch 187/200\n",
      "183/183 [==============================] - 31s 168ms/step - loss: 0.2320 - accuracy: 0.9187 - val_loss: 0.4624 - val_accuracy: 0.8776\n",
      "Epoch 188/200\n",
      "183/183 [==============================] - 31s 169ms/step - loss: 0.2295 - accuracy: 0.9186 - val_loss: 0.4604 - val_accuracy: 0.8803\n",
      "Epoch 189/200\n",
      "183/183 [==============================] - 32s 175ms/step - loss: 0.2310 - accuracy: 0.9187 - val_loss: 0.4566 - val_accuracy: 0.8787\n",
      "Epoch 190/200\n",
      "183/183 [==============================] - 31s 171ms/step - loss: 0.2275 - accuracy: 0.9202 - val_loss: 0.4529 - val_accuracy: 0.8848\n",
      "Epoch 191/200\n",
      "183/183 [==============================] - 31s 168ms/step - loss: 0.2343 - accuracy: 0.9192 - val_loss: 0.4516 - val_accuracy: 0.8801\n",
      "Epoch 192/200\n",
      "183/183 [==============================] - 31s 170ms/step - loss: 0.2326 - accuracy: 0.9192 - val_loss: 0.4426 - val_accuracy: 0.8825\n",
      "Epoch 193/200\n",
      "183/183 [==============================] - 33s 178ms/step - loss: 0.2315 - accuracy: 0.9182 - val_loss: 0.4998 - val_accuracy: 0.8689\n",
      "Epoch 194/200\n",
      "183/183 [==============================] - 31s 168ms/step - loss: 0.2351 - accuracy: 0.9183 - val_loss: 0.4498 - val_accuracy: 0.8823\n",
      "Epoch 195/200\n",
      "183/183 [==============================] - 31s 168ms/step - loss: 0.2294 - accuracy: 0.9191 - val_loss: 0.4641 - val_accuracy: 0.8747\n",
      "Epoch 196/200\n",
      "183/183 [==============================] - 31s 169ms/step - loss: 0.2274 - accuracy: 0.9211 - val_loss: 0.4660 - val_accuracy: 0.8791\n",
      "Epoch 197/200\n",
      "183/183 [==============================] - 33s 178ms/step - loss: 0.2223 - accuracy: 0.9215 - val_loss: 0.4599 - val_accuracy: 0.8800\n",
      "Epoch 198/200\n",
      "183/183 [==============================] - 31s 169ms/step - loss: 0.2216 - accuracy: 0.9222 - val_loss: 0.4539 - val_accuracy: 0.8813\n",
      "Epoch 199/200\n",
      "183/183 [==============================] - 31s 168ms/step - loss: 0.2215 - accuracy: 0.9229 - val_loss: 0.4763 - val_accuracy: 0.8738\n",
      "Epoch 200/200\n",
      "183/183 [==============================] - 31s 168ms/step - loss: 0.2222 - accuracy: 0.9235 - val_loss: 0.4522 - val_accuracy: 0.8812\n"
     ]
    }
   ],
   "source": [
    "history=model.fit(x_train, y_train,\n",
    "          batch_size=batch_size,\n",
    "          epochs=epochs,\n",
    "          verbose=1,validation_data=(x_test,y_test))"
   ]
  },
  {
   "cell_type": "code",
   "execution_count": null,
   "metadata": {
    "colab": {
     "base_uri": "https://localhost:8080/"
    },
    "id": "oxwtaeFkRonq",
    "outputId": "6d86d20c-876d-40cb-98df-1120bd6188af"
   },
   "outputs": [
    {
     "name": "stdout",
     "output_type": "stream",
     "text": [
      "366/366 [==============================] - 3s 7ms/step - loss: 0.4522 - accuracy: 0.8812\n",
      "Test loss: 0.4522206485271454\n",
      "Test accuracy: 0.8812329173088074\n"
     ]
    }
   ],
   "source": [
    "score = model.evaluate(x_test, y_test, verbose=1)\n",
    "print('Test loss:', score[0])\n",
    "print('Test accuracy:', score[1])"
   ]
  },
  {
   "cell_type": "code",
   "execution_count": null,
   "metadata": {
    "colab": {
     "base_uri": "https://localhost:8080/"
    },
    "id": "4UdXy2roR2da",
    "outputId": "ee9436b6-c272-4c6d-80ee-044064c7e94b"
   },
   "outputs": [
    {
     "name": "stdout",
     "output_type": "stream",
     "text": [
      "dict_keys(['loss', 'accuracy', 'val_loss', 'val_accuracy'])\n"
     ]
    }
   ],
   "source": [
    "# list all data in history\n",
    "print(history.history.keys())\n",
    "import matplotlib.pyplot as plt\n",
    "import numpy"
   ]
  },
  {
   "cell_type": "code",
   "execution_count": null,
   "metadata": {
    "colab": {
     "base_uri": "https://localhost:8080/",
     "height": 295
    },
    "id": "D8qbSr0iSEwd",
    "outputId": "4a363719-e99b-4bcf-ba67-2ae1accbfdf4"
   },
   "outputs": [
    {
     "data": {
      "image/png": "[encoded data removed]",
      "text/plain": [
       "<Figure size 432x288 with 1 Axes>"
      ]
     },
     "metadata": {
      "needs_background": "light"
     },
     "output_type": "display_data"
    }
   ],
   "source": [
    "# summarize history for accuracy\n",
    "plt.plot(history.history['accuracy'])\n",
    "plt.plot(history.history['val_accuracy'])\n",
    "plt.title('model accuracy')\n",
    "plt.ylabel('accuracy')\n",
    "plt.xlabel('epoch')\n",
    "plt.legend(['train', 'test'], loc='upper left')\n",
    "plt.show()"
   ]
  },
  {
   "cell_type": "code",
   "execution_count": null,
   "metadata": {
    "colab": {
     "base_uri": "https://localhost:8080/",
     "height": 295
    },
    "id": "lWxIYDu6SJlj",
    "outputId": "af3f913d-657b-4fa1-ecb2-942918b963fb"
   },
   "outputs": [
    {
     "data": {
      "image/png": "[encoded data removed]",
      "text/plain": [
       "<Figure size 432x288 with 1 Axes>"
      ]
     },
     "metadata": {
      "needs_background": "light"
     },
     "output_type": "display_data"
    }
   ],
   "source": [
    "plt.plot(history.history['val_accuracy'])\n",
    "plt.plot(history.history['val_loss'])\n",
    "plt.title('test model')\n",
    "plt.ylabel('test accuracy')\n",
    "plt.xlabel('test loss')\n",
    "plt.show()"
   ]
  },
  {
   "cell_type": "code",
   "execution_count": null,
   "metadata": {
    "id": "dQ6RT8e9SQAM"
   },
   "outputs": [],
   "source": [
    "y_pred=model.predict(x_test)\n",
    "from sklearn.metrics import confusion_matrix\n",
    "import numpy as np"
   ]
  },
  {
   "cell_type": "code",
   "execution_count": null,
   "metadata": {
    "colab": {
     "base_uri": "https://localhost:8080/"
    },
    "id": "nVsCgu1ISR3D",
    "outputId": "a008910c-dd18-48df-d4e5-d9c95d15f9ff"
   },
   "outputs": [
    {
     "data": {
      "text/plain": [
       "array([0., 0., 0., 0., 0., 0., 0., 1., 0., 0.], dtype=float32)"
      ]
     },
     "execution_count": 42,
     "metadata": {},
     "output_type": "execute_result"
    }
   ],
   "source": [
    "y_test[1]"
   ]
  },
  {
   "cell_type": "code",
   "execution_count": null,
   "metadata": {
    "colab": {
     "base_uri": "https://localhost:8080/"
    },
    "id": "mSHUaZ7RSacQ",
    "outputId": "38cb08dd-2674-4906-c9aa-767c3e3d73a7"
   },
   "outputs": [
    {
     "data": {
      "text/plain": [
       "array([8.7993164e-36, 2.0060172e-07, 2.3664955e-38, 1.7161075e-07,\n",
       "       7.6483606e-14, 1.4743505e-05, 1.9133868e-05, 9.9996400e-01,\n",
       "       5.1853704e-07, 1.3269774e-06], dtype=float32)"
      ]
     },
     "execution_count": 43,
     "metadata": {},
     "output_type": "execute_result"
    }
   ],
   "source": [
    "y_pred[1]"
   ]
  },
  {
   "cell_type": "code",
   "execution_count": null,
   "metadata": {
    "id": "pdMaFlnoSdPT"
   },
   "outputs": [],
   "source": [
    "y_test1=np.argmax(y_test, axis=1)"
   ]
  },
  {
   "cell_type": "code",
   "execution_count": null,
   "metadata": {
    "id": "y6Ro4gFsSmjb"
   },
   "outputs": [],
   "source": [
    "y_pred=np.argmax(y_pred,axis=1)"
   ]
  },
  {
   "cell_type": "code",
   "execution_count": null,
   "metadata": {
    "colab": {
     "base_uri": "https://localhost:8080/"
    },
    "id": "CAPTa79RSnz9",
    "outputId": "0effcb2b-6933-4158-b019-121bc0a42765"
   },
   "outputs": [
    {
     "data": {
      "text/plain": [
       "7"
      ]
     },
     "execution_count": 46,
     "metadata": {},
     "output_type": "execute_result"
    }
   ],
   "source": [
    "y_test1[1]"
   ]
  },
  {
   "cell_type": "code",
   "execution_count": null,
   "metadata": {
    "colab": {
     "base_uri": "https://localhost:8080/"
    },
    "id": "uW_I4_3BSr8i",
    "outputId": "35e14dae-0bf4-4e83-bca8-79eccd70c0b5"
   },
   "outputs": [
    {
     "data": {
      "text/plain": [
       "7"
      ]
     },
     "execution_count": 48,
     "metadata": {},
     "output_type": "execute_result"
    }
   ],
   "source": [
    "y_pred[1]"
   ]
  },
  {
   "cell_type": "code",
   "execution_count": null,
   "metadata": {
    "id": "tnVnsROKSzNg"
   },
   "outputs": [],
   "source": [
    "cmatrix=confusion_matrix(y_test1, y_pred)"
   ]
  },
  {
   "cell_type": "code",
   "execution_count": null,
   "metadata": {
    "colab": {
     "base_uri": "https://localhost:8080/",
     "height": 599
    },
    "id": "RIqAyUeNS3oT",
    "outputId": "8cd48da4-2b43-4907-99f7-b1d16756d36b"
   },
   "outputs": [
    {
     "data": {
      "image/png": "[encoded data removed]",
      "text/plain": [
       "<Figure size 576x576 with 2 Axes>"
      ]
     },
     "metadata": {
      "needs_background": "light"
     },
     "output_type": "display_data"
    }
   ],
   "source": [
    "import seaborn as sns\n",
    "figure = plt.figure(figsize=(8, 8))\n",
    "sns.heatmap(cmatrix, annot=True,cmap=plt.cm.Blues)\n",
    "plt.tight_layout()\n",
    "plt.ylabel('True label')\n",
    "plt.xlabel('Predicted label')\n",
    "plt.show()"
   ]
  }
 ],
 "metadata": {
  "colab": {
   "provenance": []
  },
  "kernelspec": {
   "display_name": "Python 3 (ipykernel)",
   "language": "python",
   "name": "python3"
  },
  "language_info": {
   "codemirror_mode": {
    "name": "ipython",
    "version": 3
   },
   "file_extension": ".py",
   "mimetype": "text/x-python",
   "name": "python",
   "nbconvert_exporter": "python",
   "pygments_lexer": "ipython3",
   "version": "3.8.13"
  }
 },
 "nbformat": 4,
 "nbformat_minor": 1
}
